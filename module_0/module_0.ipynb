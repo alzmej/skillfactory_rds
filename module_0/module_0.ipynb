{
 "cells": [
  {
   "cell_type": "code",
   "execution_count": 1,
   "metadata": {},
   "outputs": [
    {
     "name": "stdout",
     "output_type": "stream",
     "text": [
      "Ваш алгоритм угадывает число в среднем за 7 попыток\n"
     ]
    },
    {
     "data": {
      "text/plain": [
       "7"
      ]
     },
     "execution_count": 1,
     "metadata": {},
     "output_type": "execute_result"
    }
   ],
   "source": [
    "import numpy as np \n",
    "\n",
    "def game_core(number):\n",
    "    '''Функция вычисляет загаданное число как точку на отрезке, используя алгоритм поиска минимума/максимума функции методом золотого сечения.\n",
    "       Функция принимает загаданное число и возвращает число попыток.\n",
    "       Сначала вычисляются стартовые значения, затем пошаговое приближение к загаданному числу.'''\n",
    "    count = 1\n",
    "    golden_ratio = 0.5 * (1 + 5**0.5)\n",
    "    point_start = 0\n",
    "    point_end = 100\n",
    "    predict = round((point_start + point_end)/2)\n",
    "    gold_point_2 = round(point_start + (point_end - point_start)/golden_ratio)\n",
    "    gold_point_1 = round(point_end - (point_end - point_start)/golden_ratio)\n",
    "    \n",
    "    while number != predict:\n",
    "        count+=1\n",
    "        if number > gold_point_1: \n",
    "            point_start = gold_point_1   \n",
    "            gold_point_1 = gold_point_2\n",
    "            gold_point_2 = round(point_start + (point_end - point_start)/golden_ratio) \n",
    "        elif number < gold_point_2: \n",
    "            point_end = gold_point_2\n",
    "            gold_point_2 = gold_point_1\n",
    "            gold_point_1 = round(point_end - (point_end - point_start)/golden_ratio)\n",
    "        predict = round((point_start + point_end)/2)       \n",
    "    return(count) # выход из цикла, если угадали\n",
    "\n",
    "\n",
    "def score_game(game_core):\n",
    "    '''Запускаем игру 1000 раз, чтобы узнать, как быстро игра угадывает число'''\n",
    "    count_ls = []\n",
    "    np.random.seed(1)  # фиксируем RANDOM SEED, чтобы эксперимент был воспроизводим!\n",
    "    random_array = np.random.randint(1,101, size=(1000))\n",
    "    for number in random_array:\n",
    "        count_ls.append(game_core(number))\n",
    "    score = int(np.mean(count_ls))    \n",
    "    print(f\"Ваш алгоритм угадывает число в среднем за {score} попыток\")\n",
    "    return(score)\n",
    "\n",
    "    \n",
    "score_game(game_core)"
   ]
  },
  {
   "cell_type": "code",
   "execution_count": null,
   "metadata": {},
   "outputs": [],
   "source": []
  }
 ],
 "metadata": {
  "kernelspec": {
   "display_name": "Python 3",
   "language": "python",
   "name": "python3"
  },
  "language_info": {
   "codemirror_mode": {
    "name": "ipython",
    "version": 3
   },
   "file_extension": ".py",
   "mimetype": "text/x-python",
   "name": "python",
   "nbconvert_exporter": "python",
   "pygments_lexer": "ipython3",
   "version": "3.8.5"
  }
 },
 "nbformat": 4,
 "nbformat_minor": 4
}
