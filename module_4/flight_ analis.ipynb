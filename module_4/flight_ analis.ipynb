{
 "cells": [
  {
   "cell_type": "code",
   "execution_count": 303,
   "metadata": {},
   "outputs": [],
   "source": [
    "# импорт библиотек и инициализация параметров\n",
    "import warnings\n",
    "import numpy as np\n",
    "import pandas as pd\n",
    "import datetime\n",
    "from datetime import datetime\n",
    "import seaborn as sns\n",
    "import matplotlib.pyplot as plt\n",
    "%matplotlib inline\n",
    "warnings.filterwarnings('ignore')"
   ]
  },
  {
   "cell_type": "code",
   "execution_count": 272,
   "metadata": {},
   "outputs": [
    {
     "name": "stdout",
     "output_type": "stream",
     "text": [
      "<class 'pandas.core.frame.DataFrame'>\n",
      "RangeIndex: 193 entries, 0 to 192\n",
      "Data columns (total 25 columns):\n",
      " #   Column                         Non-Null Count  Dtype  \n",
      "---  ------                         --------------  -----  \n",
      " 0   flight_id                      193 non-null    int64  \n",
      " 1   flight_no                      193 non-null    object \n",
      " 2   aircraft_code                  193 non-null    object \n",
      " 3   model                          193 non-null    object \n",
      " 4   count_seats                    193 non-null    int64  \n",
      " 5   range                          193 non-null    int64  \n",
      " 6   departure_airport              193 non-null    object \n",
      " 7   departure_city                 193 non-null    object \n",
      " 8   arrival_airport                193 non-null    object \n",
      " 9   arrival_city                   193 non-null    object \n",
      " 10  distance                       193 non-null    float64\n",
      " 11  scheduled_departure            193 non-null    object \n",
      " 12  scheduled_arrival              193 non-null    object \n",
      " 13  actual_departure               193 non-null    object \n",
      " 14  actual_arrival                 193 non-null    object \n",
      " 15  flight_time_min                193 non-null    float64\n",
      " 16  delay                          193 non-null    float64\n",
      " 17  count_business_conditions_all  193 non-null    int64  \n",
      " 18  count_economy_conditions_all   193 non-null    int64  \n",
      " 19  count_conditions_business      180 non-null    float64\n",
      " 20  sum_conditions_business        180 non-null    float64\n",
      " 21  count_conditions_economy       180 non-null    float64\n",
      " 22  sum_conditions_economy         180 non-null    float64\n",
      " 23  sum_booking_seats              180 non-null    float64\n",
      " 24  sum_booking                    180 non-null    float64\n",
      "dtypes: float64(9), int64(5), object(11)\n",
      "memory usage: 37.8+ KB\n"
     ]
    }
   ],
   "source": [
    "# чтение датасета\n",
    "df = pd.read_csv('query_result.csv')\n",
    "df.info()"
   ]
  },
  {
   "cell_type": "code",
   "execution_count": 273,
   "metadata": {},
   "outputs": [
    {
     "data": {
      "text/html": [
       "<div>\n",
       "<style scoped>\n",
       "    .dataframe tbody tr th:only-of-type {\n",
       "        vertical-align: middle;\n",
       "    }\n",
       "\n",
       "    .dataframe tbody tr th {\n",
       "        vertical-align: top;\n",
       "    }\n",
       "\n",
       "    .dataframe thead th {\n",
       "        text-align: right;\n",
       "    }\n",
       "</style>\n",
       "<table border=\"1\" class=\"dataframe\">\n",
       "  <thead>\n",
       "    <tr style=\"text-align: right;\">\n",
       "      <th></th>\n",
       "      <th>flight_id</th>\n",
       "      <th>flight_no</th>\n",
       "      <th>aircraft_code</th>\n",
       "      <th>model</th>\n",
       "      <th>count_seats</th>\n",
       "      <th>range</th>\n",
       "      <th>departure_airport</th>\n",
       "      <th>departure_city</th>\n",
       "      <th>arrival_airport</th>\n",
       "      <th>arrival_city</th>\n",
       "      <th>...</th>\n",
       "      <th>flight_time_min</th>\n",
       "      <th>delay</th>\n",
       "      <th>count_business_conditions_all</th>\n",
       "      <th>count_economy_conditions_all</th>\n",
       "      <th>count_conditions_business</th>\n",
       "      <th>sum_conditions_business</th>\n",
       "      <th>count_conditions_economy</th>\n",
       "      <th>sum_conditions_economy</th>\n",
       "      <th>sum_booking_seats</th>\n",
       "      <th>sum_booking</th>\n",
       "    </tr>\n",
       "  </thead>\n",
       "  <tbody>\n",
       "    <tr>\n",
       "      <th>0</th>\n",
       "      <td>136119</td>\n",
       "      <td>PG0252</td>\n",
       "      <td>733</td>\n",
       "      <td>Boeing 737-300</td>\n",
       "      <td>130</td>\n",
       "      <td>4200</td>\n",
       "      <td>AAQ</td>\n",
       "      <td>Anapa</td>\n",
       "      <td>SVO</td>\n",
       "      <td>Moscow</td>\n",
       "      <td>...</td>\n",
       "      <td>101.0</td>\n",
       "      <td>3.0</td>\n",
       "      <td>12</td>\n",
       "      <td>118</td>\n",
       "      <td>11.0</td>\n",
       "      <td>402600.0</td>\n",
       "      <td>102.0</td>\n",
       "      <td>1250400.0</td>\n",
       "      <td>113.0</td>\n",
       "      <td>1653000.0</td>\n",
       "    </tr>\n",
       "    <tr>\n",
       "      <th>1</th>\n",
       "      <td>136120</td>\n",
       "      <td>PG0252</td>\n",
       "      <td>733</td>\n",
       "      <td>Boeing 737-300</td>\n",
       "      <td>130</td>\n",
       "      <td>4200</td>\n",
       "      <td>AAQ</td>\n",
       "      <td>Anapa</td>\n",
       "      <td>SVO</td>\n",
       "      <td>Moscow</td>\n",
       "      <td>...</td>\n",
       "      <td>99.0</td>\n",
       "      <td>2.0</td>\n",
       "      <td>12</td>\n",
       "      <td>118</td>\n",
       "      <td>11.0</td>\n",
       "      <td>402600.0</td>\n",
       "      <td>98.0</td>\n",
       "      <td>1202800.0</td>\n",
       "      <td>109.0</td>\n",
       "      <td>1605400.0</td>\n",
       "    </tr>\n",
       "    <tr>\n",
       "      <th>2</th>\n",
       "      <td>136122</td>\n",
       "      <td>PG0252</td>\n",
       "      <td>733</td>\n",
       "      <td>Boeing 737-300</td>\n",
       "      <td>130</td>\n",
       "      <td>4200</td>\n",
       "      <td>AAQ</td>\n",
       "      <td>Anapa</td>\n",
       "      <td>SVO</td>\n",
       "      <td>Moscow</td>\n",
       "      <td>...</td>\n",
       "      <td>100.0</td>\n",
       "      <td>3.0</td>\n",
       "      <td>12</td>\n",
       "      <td>118</td>\n",
       "      <td>10.0</td>\n",
       "      <td>366000.0</td>\n",
       "      <td>87.0</td>\n",
       "      <td>1065000.0</td>\n",
       "      <td>97.0</td>\n",
       "      <td>1431000.0</td>\n",
       "    </tr>\n",
       "    <tr>\n",
       "      <th>3</th>\n",
       "      <td>136130</td>\n",
       "      <td>PG0252</td>\n",
       "      <td>733</td>\n",
       "      <td>Boeing 737-300</td>\n",
       "      <td>130</td>\n",
       "      <td>4200</td>\n",
       "      <td>AAQ</td>\n",
       "      <td>Anapa</td>\n",
       "      <td>SVO</td>\n",
       "      <td>Moscow</td>\n",
       "      <td>...</td>\n",
       "      <td>99.0</td>\n",
       "      <td>2.0</td>\n",
       "      <td>12</td>\n",
       "      <td>118</td>\n",
       "      <td>10.0</td>\n",
       "      <td>366000.0</td>\n",
       "      <td>97.0</td>\n",
       "      <td>1190600.0</td>\n",
       "      <td>107.0</td>\n",
       "      <td>1556600.0</td>\n",
       "    </tr>\n",
       "    <tr>\n",
       "      <th>4</th>\n",
       "      <td>136131</td>\n",
       "      <td>PG0252</td>\n",
       "      <td>733</td>\n",
       "      <td>Boeing 737-300</td>\n",
       "      <td>130</td>\n",
       "      <td>4200</td>\n",
       "      <td>AAQ</td>\n",
       "      <td>Anapa</td>\n",
       "      <td>SVO</td>\n",
       "      <td>Moscow</td>\n",
       "      <td>...</td>\n",
       "      <td>99.0</td>\n",
       "      <td>2.0</td>\n",
       "      <td>12</td>\n",
       "      <td>118</td>\n",
       "      <td>12.0</td>\n",
       "      <td>439200.0</td>\n",
       "      <td>112.0</td>\n",
       "      <td>1373600.0</td>\n",
       "      <td>124.0</td>\n",
       "      <td>1812800.0</td>\n",
       "    </tr>\n",
       "    <tr>\n",
       "      <th>...</th>\n",
       "      <td>...</td>\n",
       "      <td>...</td>\n",
       "      <td>...</td>\n",
       "      <td>...</td>\n",
       "      <td>...</td>\n",
       "      <td>...</td>\n",
       "      <td>...</td>\n",
       "      <td>...</td>\n",
       "      <td>...</td>\n",
       "      <td>...</td>\n",
       "      <td>...</td>\n",
       "      <td>...</td>\n",
       "      <td>...</td>\n",
       "      <td>...</td>\n",
       "      <td>...</td>\n",
       "      <td>...</td>\n",
       "      <td>...</td>\n",
       "      <td>...</td>\n",
       "      <td>...</td>\n",
       "      <td>...</td>\n",
       "      <td>...</td>\n",
       "    </tr>\n",
       "    <tr>\n",
       "      <th>188</th>\n",
       "      <td>136943</td>\n",
       "      <td>PG0480</td>\n",
       "      <td>SU9</td>\n",
       "      <td>Sukhoi Superjet-100</td>\n",
       "      <td>97</td>\n",
       "      <td>3000</td>\n",
       "      <td>AAQ</td>\n",
       "      <td>Anapa</td>\n",
       "      <td>EGO</td>\n",
       "      <td>Belgorod</td>\n",
       "      <td>...</td>\n",
       "      <td>50.0</td>\n",
       "      <td>3.0</td>\n",
       "      <td>12</td>\n",
       "      <td>85</td>\n",
       "      <td>11.0</td>\n",
       "      <td>207900.0</td>\n",
       "      <td>83.0</td>\n",
       "      <td>525900.0</td>\n",
       "      <td>94.0</td>\n",
       "      <td>733800.0</td>\n",
       "    </tr>\n",
       "    <tr>\n",
       "      <th>189</th>\n",
       "      <td>136951</td>\n",
       "      <td>PG0480</td>\n",
       "      <td>SU9</td>\n",
       "      <td>Sukhoi Superjet-100</td>\n",
       "      <td>97</td>\n",
       "      <td>3000</td>\n",
       "      <td>AAQ</td>\n",
       "      <td>Anapa</td>\n",
       "      <td>EGO</td>\n",
       "      <td>Belgorod</td>\n",
       "      <td>...</td>\n",
       "      <td>49.0</td>\n",
       "      <td>3.0</td>\n",
       "      <td>12</td>\n",
       "      <td>85</td>\n",
       "      <td>12.0</td>\n",
       "      <td>226800.0</td>\n",
       "      <td>78.0</td>\n",
       "      <td>493800.0</td>\n",
       "      <td>90.0</td>\n",
       "      <td>720600.0</td>\n",
       "    </tr>\n",
       "    <tr>\n",
       "      <th>190</th>\n",
       "      <td>136953</td>\n",
       "      <td>PG0480</td>\n",
       "      <td>SU9</td>\n",
       "      <td>Sukhoi Superjet-100</td>\n",
       "      <td>97</td>\n",
       "      <td>3000</td>\n",
       "      <td>AAQ</td>\n",
       "      <td>Anapa</td>\n",
       "      <td>EGO</td>\n",
       "      <td>Belgorod</td>\n",
       "      <td>...</td>\n",
       "      <td>50.0</td>\n",
       "      <td>2.0</td>\n",
       "      <td>12</td>\n",
       "      <td>85</td>\n",
       "      <td>12.0</td>\n",
       "      <td>226800.0</td>\n",
       "      <td>85.0</td>\n",
       "      <td>538500.0</td>\n",
       "      <td>97.0</td>\n",
       "      <td>765300.0</td>\n",
       "    </tr>\n",
       "    <tr>\n",
       "      <th>191</th>\n",
       "      <td>136956</td>\n",
       "      <td>PG0480</td>\n",
       "      <td>SU9</td>\n",
       "      <td>Sukhoi Superjet-100</td>\n",
       "      <td>97</td>\n",
       "      <td>3000</td>\n",
       "      <td>AAQ</td>\n",
       "      <td>Anapa</td>\n",
       "      <td>EGO</td>\n",
       "      <td>Belgorod</td>\n",
       "      <td>...</td>\n",
       "      <td>50.0</td>\n",
       "      <td>8.0</td>\n",
       "      <td>12</td>\n",
       "      <td>85</td>\n",
       "      <td>11.0</td>\n",
       "      <td>207900.0</td>\n",
       "      <td>85.0</td>\n",
       "      <td>538500.0</td>\n",
       "      <td>96.0</td>\n",
       "      <td>746400.0</td>\n",
       "    </tr>\n",
       "    <tr>\n",
       "      <th>192</th>\n",
       "      <td>136961</td>\n",
       "      <td>PG0480</td>\n",
       "      <td>SU9</td>\n",
       "      <td>Sukhoi Superjet-100</td>\n",
       "      <td>97</td>\n",
       "      <td>3000</td>\n",
       "      <td>AAQ</td>\n",
       "      <td>Anapa</td>\n",
       "      <td>EGO</td>\n",
       "      <td>Belgorod</td>\n",
       "      <td>...</td>\n",
       "      <td>49.0</td>\n",
       "      <td>2.0</td>\n",
       "      <td>12</td>\n",
       "      <td>85</td>\n",
       "      <td>12.0</td>\n",
       "      <td>226800.0</td>\n",
       "      <td>84.0</td>\n",
       "      <td>532200.0</td>\n",
       "      <td>96.0</td>\n",
       "      <td>759000.0</td>\n",
       "    </tr>\n",
       "  </tbody>\n",
       "</table>\n",
       "<p>180 rows × 25 columns</p>\n",
       "</div>"
      ],
      "text/plain": [
       "     flight_id flight_no aircraft_code                model  count_seats  \\\n",
       "0       136119    PG0252           733       Boeing 737-300          130   \n",
       "1       136120    PG0252           733       Boeing 737-300          130   \n",
       "2       136122    PG0252           733       Boeing 737-300          130   \n",
       "3       136130    PG0252           733       Boeing 737-300          130   \n",
       "4       136131    PG0252           733       Boeing 737-300          130   \n",
       "..         ...       ...           ...                  ...          ...   \n",
       "188     136943    PG0480           SU9  Sukhoi Superjet-100           97   \n",
       "189     136951    PG0480           SU9  Sukhoi Superjet-100           97   \n",
       "190     136953    PG0480           SU9  Sukhoi Superjet-100           97   \n",
       "191     136956    PG0480           SU9  Sukhoi Superjet-100           97   \n",
       "192     136961    PG0480           SU9  Sukhoi Superjet-100           97   \n",
       "\n",
       "     range departure_airport departure_city arrival_airport arrival_city  ...  \\\n",
       "0     4200               AAQ          Anapa             SVO       Moscow  ...   \n",
       "1     4200               AAQ          Anapa             SVO       Moscow  ...   \n",
       "2     4200               AAQ          Anapa             SVO       Moscow  ...   \n",
       "3     4200               AAQ          Anapa             SVO       Moscow  ...   \n",
       "4     4200               AAQ          Anapa             SVO       Moscow  ...   \n",
       "..     ...               ...            ...             ...          ...  ...   \n",
       "188   3000               AAQ          Anapa             EGO     Belgorod  ...   \n",
       "189   3000               AAQ          Anapa             EGO     Belgorod  ...   \n",
       "190   3000               AAQ          Anapa             EGO     Belgorod  ...   \n",
       "191   3000               AAQ          Anapa             EGO     Belgorod  ...   \n",
       "192   3000               AAQ          Anapa             EGO     Belgorod  ...   \n",
       "\n",
       "     flight_time_min delay count_business_conditions_all  \\\n",
       "0              101.0   3.0                            12   \n",
       "1               99.0   2.0                            12   \n",
       "2              100.0   3.0                            12   \n",
       "3               99.0   2.0                            12   \n",
       "4               99.0   2.0                            12   \n",
       "..               ...   ...                           ...   \n",
       "188             50.0   3.0                            12   \n",
       "189             49.0   3.0                            12   \n",
       "190             50.0   2.0                            12   \n",
       "191             50.0   8.0                            12   \n",
       "192             49.0   2.0                            12   \n",
       "\n",
       "    count_economy_conditions_all count_conditions_business  \\\n",
       "0                            118                      11.0   \n",
       "1                            118                      11.0   \n",
       "2                            118                      10.0   \n",
       "3                            118                      10.0   \n",
       "4                            118                      12.0   \n",
       "..                           ...                       ...   \n",
       "188                           85                      11.0   \n",
       "189                           85                      12.0   \n",
       "190                           85                      12.0   \n",
       "191                           85                      11.0   \n",
       "192                           85                      12.0   \n",
       "\n",
       "     sum_conditions_business  count_conditions_economy  \\\n",
       "0                   402600.0                     102.0   \n",
       "1                   402600.0                      98.0   \n",
       "2                   366000.0                      87.0   \n",
       "3                   366000.0                      97.0   \n",
       "4                   439200.0                     112.0   \n",
       "..                       ...                       ...   \n",
       "188                 207900.0                      83.0   \n",
       "189                 226800.0                      78.0   \n",
       "190                 226800.0                      85.0   \n",
       "191                 207900.0                      85.0   \n",
       "192                 226800.0                      84.0   \n",
       "\n",
       "     sum_conditions_economy  sum_booking_seats  sum_booking  \n",
       "0                 1250400.0              113.0    1653000.0  \n",
       "1                 1202800.0              109.0    1605400.0  \n",
       "2                 1065000.0               97.0    1431000.0  \n",
       "3                 1190600.0              107.0    1556600.0  \n",
       "4                 1373600.0              124.0    1812800.0  \n",
       "..                      ...                ...          ...  \n",
       "188                525900.0               94.0     733800.0  \n",
       "189                493800.0               90.0     720600.0  \n",
       "190                538500.0               97.0     765300.0  \n",
       "191                538500.0               96.0     746400.0  \n",
       "192                532200.0               96.0     759000.0  \n",
       "\n",
       "[180 rows x 25 columns]"
      ]
     },
     "metadata": {},
     "output_type": "display_data"
    }
   ],
   "source": [
    "# удалим строки с данными по рейсам в Новокузнецк,\n",
    "# поскольку отсутствие информации по проданным билетам\n",
    "# делает невозможным провести анализ рентабельности этих рейсов.\n",
    "df = df.dropna()\n",
    "display(df)"
   ]
  },
  {
   "cell_type": "code",
   "execution_count": 274,
   "metadata": {},
   "outputs": [],
   "source": [
    "# расчитаем процент заполненности мест на рейсах по классам обслуживания и суммарно\n",
    "df['booking_seats_persent'] = 0\n",
    "df['business_seats_persent'] = 0\n",
    "df['econom_seats_persent'] = 0\n",
    "for index, row in df.iterrows():\n",
    "    df['booking_seats_persent'][index] = df['sum_booking_seats'][index] / \\\n",
    "        df['count_seats'][index]*100\n",
    "    df['business_seats_persent'][index] = df['count_conditions_business'][index] / \\\n",
    "        df['count_business_conditions_all'][index]*100\n",
    "    df['econom_seats_persent'][index] = df['count_conditions_economy'][index] / \\\n",
    "        df['count_economy_conditions_all'][index]*100"
   ]
  },
  {
   "cell_type": "code",
   "execution_count": 275,
   "metadata": {},
   "outputs": [],
   "source": [
    "# создадим столбец с номером месяца полёта\n",
    "df['flight_month'] = 0\n",
    "for index, row in df.iterrows():\n",
    "    df['flight_month'][index] = datetime.strptime(df['actual_departure'][index], '%Y-%m-%dT%H:%M:%SZ').month"
   ]
  },
  {
   "cell_type": "code",
   "execution_count": 276,
   "metadata": {},
   "outputs": [],
   "source": [
    "# рассчитаем издержки по расходу топлива для рейса\n",
    "# расход учитываем по г/пасс.-км и тыс. кг/ч\n",
    "rate_Boeing_km = 22.5    # г/пасс.-км\n",
    "rate_Superjet_km = 23.46  # г/пасс.-км\n",
    "rate_Boeing_hour = 2.4   # тыс. кг/ч\n",
    "rate_Superjet_hour = 1.7  # тыс. кг/ч\n",
    "\n",
    "# стоимость топлива - авиационный керосин по рассматриваемым в анализе месяцам в руб. за тонну\n",
    "price_december = 38867.00\n",
    "price_january = 41435.00\n",
    "price_february = 39553.00\n",
    "\n",
    "# стоимость израсходованного топлива на полёт по времени\n",
    "df['price_rate_time'] = 0\n",
    "for index, row in df.iterrows():\n",
    "    temp_rate = 0\n",
    "    if df['aircraft_code'][index] == '733':\n",
    "        temp_rate = (df['flight_time_min'][index]/60)*rate_Boeing_hour\n",
    "    else:\n",
    "        temp_rate = (df['flight_time_min'][index]/60)*rate_Superjet_hour\n",
    "    if df['flight_month'][index] == 12:\n",
    "        df['price_rate_time'][index] = temp_rate*price_december\n",
    "    elif df['flight_month'][index] == 1:\n",
    "        df['price_rate_time'][index] = temp_rate*price_january\n",
    "    elif df['flight_month'][index] == 2:\n",
    "        df['price_rate_time'][index] = temp_rate*price_february\n",
    "\n",
    "# стоимость израсходованного топлива на полёт по загрузке и расстоянию\n",
    "df['price_rate_distance'] = 0\n",
    "for index, row in df.iterrows():\n",
    "    temp_rate = 0\n",
    "    if df['aircraft_code'][index] == '733':\n",
    "        temp_rate = df['distance'][index] * \\\n",
    "            df['sum_booking_seats'][index]*rate_Boeing_km/1000000\n",
    "    else:\n",
    "        temp_rate = df['distance'][index] * \\\n",
    "            df['sum_booking_seats'][index]*rate_Superjet_km/1000000\n",
    "    if df['flight_month'][index] == 12:\n",
    "        df['price_rate_distance'][index] = temp_rate*price_december\n",
    "    elif df['flight_month'][index] == 1:\n",
    "        df['price_rate_distance'][index] = temp_rate*price_january\n",
    "    elif df['flight_month'][index] == 2:\n",
    "        df['price_rate_distance'][index] = temp_rate*price_february"
   ]
  },
  {
   "cell_type": "code",
   "execution_count": 277,
   "metadata": {},
   "outputs": [],
   "source": [
    "# посчитаем рентабельность как разницу между общей стоимостью билетов\n",
    "# и раходами на топливо для расхода по времени и по пассажиро - километрам\n",
    "df['profit_min'] = 0\n",
    "for index, row in df.iterrows():\n",
    "    df['profit_min'][index] = df['sum_booking'][index] - \\\n",
    "        df['price_rate_time'][index]\n",
    "\n",
    "df['profit_distance'] = 0\n",
    "for index, row in df.iterrows():\n",
    "    df['profit_distance'][index] = df['sum_booking'][index] - \\\n",
    "        df['price_rate_distance'][index]"
   ]
  },
  {
   "cell_type": "code",
   "execution_count": 278,
   "metadata": {},
   "outputs": [
    {
     "data": {
      "text/plain": [
       "<AxesSubplot:xlabel='arrival_city', ylabel='count'>"
      ]
     },
     "execution_count": 278,
     "metadata": {},
     "output_type": "execute_result"
    },
    {
     "data": {
      "image/png": "[encoded data removed]",
      "text/plain": [
       "<Figure size 432x288 with 1 Axes>"
      ]
     },
     "metadata": {
      "needs_background": "light"
     },
     "output_type": "display_data"
    }
   ],
   "source": [
    "# Соотношение рейсов по различным направлениям\n",
    "sns.countplot(x='arrival_city', data=df)"
   ]
  },
  {
   "cell_type": "code",
   "execution_count": 279,
   "metadata": {},
   "outputs": [
    {
     "data": {
      "text/plain": [
       "array([<AxesSubplot:title={'center':'Всего занято %'}, ylabel='Frequency'>,\n",
       "       <AxesSubplot:title={'center':'Занято бизнесс класс %'}, ylabel='Frequency'>,\n",
       "       <AxesSubplot:title={'center':'Занято эконом класс %'}, ylabel='Frequency'>],\n",
       "      dtype=object)"
      ]
     },
     "execution_count": 279,
     "metadata": {},
     "output_type": "execute_result"
    },
    {
     "data": {
      "image/png": "[encoded data removed]",
      "text/plain": [
       "<Figure size 432x288 with 3 Axes>"
      ]
     },
     "metadata": {
      "needs_background": "light"
     },
     "output_type": "display_data"
    }
   ],
   "source": [
    "# общая занятость мест и занятость мест по классам\n",
    "df[['booking_seats_persent', 'business_seats_persent', 'econom_seats_persent']].plot(\n",
    "    kind='hist', grid=True, subplots=True, title=['Всего занято %', 'Занято бизнесс класс %',\n",
    "                                                  'Занято эконом класс %'], legend=False)"
   ]
  },
  {
   "cell_type": "code",
   "execution_count": 299,
   "metadata": {},
   "outputs": [
    {
     "data": {
      "text/plain": [
       "<AxesSubplot:xlabel='arrival_city', ylabel='count'>"
      ]
     },
     "execution_count": 299,
     "metadata": {},
     "output_type": "execute_result"
    },
    {
     "data": {
      "image/png": "[encoded data removed]",
      "text/plain": [
       "<Figure size 432x288 with 1 Axes>"
      ]
     },
     "metadata": {
      "needs_background": "light"
     },
     "output_type": "display_data"
    }
   ],
   "source": [
    "# количество рейсов с заполненностью до 80% по направлениям\n",
    "lim_persent = df.loc[(df['booking_seats_persent'] < 80)]\n",
    "sns.countplot(x='arrival_city', data=lim_persent)"
   ]
  },
  {
   "cell_type": "code",
   "execution_count": 300,
   "metadata": {},
   "outputs": [
    {
     "name": "stdout",
     "output_type": "stream",
     "text": [
      "Belgorod =  3.3333333333333335 Moscow =  14.444444444444443\n"
     ]
    }
   ],
   "source": [
    "# процент рейсов с заполненностью до 80% от общего их количества по направлениям\n",
    "small_df = df.loc[(df['booking_seats_persent'] < 80)]\n",
    "small_city_counts = small_df['arrival_city'].value_counts()\n",
    "ful_city_counts = df['arrival_city'].value_counts()\n",
    "persent_Moscow = small_city_counts['Moscow']/ful_city_counts['Moscow']*100\n",
    "persent_Belgorod = small_city_counts['Belgorod'] / \\\n",
    "    ful_city_counts['Belgorod']*100\n",
    "print('Belgorod = ', persent_Belgorod, 'Moscow = ', persent_Moscow)"
   ]
  },
  {
   "cell_type": "code",
   "execution_count": 301,
   "metadata": {},
   "outputs": [
    {
     "data": {
      "text/plain": [
       "array([<AxesSubplot:title={'center':'Всего занято %'}, ylabel='Frequency'>,\n",
       "       <AxesSubplot:title={'center':'Занято бизнесс класс %'}, ylabel='Frequency'>,\n",
       "       <AxesSubplot:title={'center':'Занято эконом класс %'}, ylabel='Frequency'>],\n",
       "      dtype=object)"
      ]
     },
     "execution_count": 301,
     "metadata": {},
     "output_type": "execute_result"
    },
    {
     "data": {
      "image/png": "[encoded data removed]",
      "text/plain": [
       "<Figure size 432x288 with 3 Axes>"
      ]
     },
     "metadata": {
      "needs_background": "light"
     },
     "output_type": "display_data"
    }
   ],
   "source": [
    "# общая занятость мест и занятость мест по классам с заполненностью рейса до 80% \n",
    "lim_persent[['booking_seats_persent', 'business_seats_persent', 'econom_seats_persent']].plot(kind = 'hist', \n",
    "                               grid = True, \n",
    "                               subplots = True, \n",
    "                               title = ['Всего занято %', 'Занято бизнесс класс %','Занято эконом класс %'], \n",
    "                               legend = False)"
   ]
  },
  {
   "cell_type": "code",
   "execution_count": 283,
   "metadata": {},
   "outputs": [
    {
     "data": {
      "text/html": [
       "<div>\n",
       "<style scoped>\n",
       "    .dataframe tbody tr th:only-of-type {\n",
       "        vertical-align: middle;\n",
       "    }\n",
       "\n",
       "    .dataframe tbody tr th {\n",
       "        vertical-align: top;\n",
       "    }\n",
       "\n",
       "    .dataframe thead th {\n",
       "        text-align: right;\n",
       "    }\n",
       "</style>\n",
       "<table border=\"1\" class=\"dataframe\">\n",
       "  <thead>\n",
       "    <tr style=\"text-align: right;\">\n",
       "      <th></th>\n",
       "      <th>arrival_city</th>\n",
       "      <th>mean</th>\n",
       "      <th>min</th>\n",
       "      <th>max</th>\n",
       "    </tr>\n",
       "  </thead>\n",
       "  <tbody>\n",
       "    <tr>\n",
       "      <th>0</th>\n",
       "      <td>Belgorod</td>\n",
       "      <td>6.557651e+05</td>\n",
       "      <td>473475</td>\n",
       "      <td>710239</td>\n",
       "    </tr>\n",
       "    <tr>\n",
       "      <th>1</th>\n",
       "      <td>Moscow</td>\n",
       "      <td>1.487101e+06</td>\n",
       "      <td>1216932</td>\n",
       "      <td>1733642</td>\n",
       "    </tr>\n",
       "  </tbody>\n",
       "</table>\n",
       "</div>"
      ],
      "text/plain": [
       "  arrival_city          mean      min      max\n",
       "0     Belgorod  6.557651e+05   473475   710239\n",
       "1       Moscow  1.487101e+06  1216932  1733642"
      ]
     },
     "execution_count": 283,
     "metadata": {},
     "output_type": "execute_result"
    }
   ],
   "source": [
    "# минимальные, максимальные и средние значения разницы общей \n",
    "# стоимости билетов и раходов на топливо по времени полёта\n",
    "bills_time = df.groupby(by='arrival_city')['profit_min'].agg(\n",
    "    ['mean', 'min', 'max']).reset_index()\n",
    "bills_time"
   ]
  },
  {
   "cell_type": "code",
   "execution_count": 284,
   "metadata": {},
   "outputs": [
    {
     "data": {
      "text/html": [
       "<div>\n",
       "<style scoped>\n",
       "    .dataframe tbody tr th:only-of-type {\n",
       "        vertical-align: middle;\n",
       "    }\n",
       "\n",
       "    .dataframe tbody tr th {\n",
       "        vertical-align: top;\n",
       "    }\n",
       "\n",
       "    .dataframe thead th {\n",
       "        text-align: right;\n",
       "    }\n",
       "</style>\n",
       "<table border=\"1\" class=\"dataframe\">\n",
       "  <thead>\n",
       "    <tr style=\"text-align: right;\">\n",
       "      <th></th>\n",
       "      <th>arrival_city</th>\n",
       "      <th>mean</th>\n",
       "      <th>min</th>\n",
       "      <th>max</th>\n",
       "    </tr>\n",
       "  </thead>\n",
       "  <tbody>\n",
       "    <tr>\n",
       "      <th>0</th>\n",
       "      <td>Belgorod</td>\n",
       "      <td>6.589826e+05</td>\n",
       "      <td>491257</td>\n",
       "      <td>709592</td>\n",
       "    </tr>\n",
       "    <tr>\n",
       "      <th>1</th>\n",
       "      <td>Moscow</td>\n",
       "      <td>1.522454e+06</td>\n",
       "      <td>1274256</td>\n",
       "      <td>1747318</td>\n",
       "    </tr>\n",
       "  </tbody>\n",
       "</table>\n",
       "</div>"
      ],
      "text/plain": [
       "  arrival_city          mean      min      max\n",
       "0     Belgorod  6.589826e+05   491257   709592\n",
       "1       Moscow  1.522454e+06  1274256  1747318"
      ]
     },
     "execution_count": 284,
     "metadata": {},
     "output_type": "execute_result"
    }
   ],
   "source": [
    "# минимальные, максимальные и средние значения разницы общей\n",
    "# стоимости билетов и раходов на топливо по протяжённости линии\n",
    "bills_distance = df.groupby(by='arrival_city')['profit_distance'].agg([\n",
    "    'mean', 'min', 'max']).reset_index()\n",
    "bills_distance"
   ]
  },
  {
   "cell_type": "code",
   "execution_count": 285,
   "metadata": {},
   "outputs": [
    {
     "data": {
      "text/plain": [
       "<matplotlib.legend.Legend at 0x7fb4cdb43850>"
      ]
     },
     "execution_count": 285,
     "metadata": {},
     "output_type": "execute_result"
    },
    {
     "data": {
      "image/png": "[encoded data removed]",
      "text/plain": [
       "<Figure size 432x288 with 1 Axes>"
      ]
     },
     "metadata": {
      "needs_background": "light"
     },
     "output_type": "display_data"
    }
   ],
   "source": [
    "# график соотношения минимальных, максимальных и средних значений разницы общей\n",
    "# стоимости билетов и раходов на топливо по времени полёта\n",
    "fig = plt.figure()\n",
    "axes = fig.add_axes([0, 0, 1, 1])\n",
    "axes.bar(x=bills_time['arrival_city'], height=bills_time['max'],\n",
    "         width=0.4, align='edge', label='Максимальная выручка')\n",
    "axes.bar(x=bills_time['arrival_city'], height=bills_time['mean'],\n",
    "         width=-0.4, align='edge', label='Средняя выручка')\n",
    "axes.bar(x=bills_time['arrival_city'], height=bills_time['min'],\n",
    "         width=0.4, align='edge', label='Минимальная выручка')\n",
    "axes.legend(loc=0)"
   ]
  },
  {
   "cell_type": "code",
   "execution_count": 286,
   "metadata": {},
   "outputs": [
    {
     "data": {
      "text/plain": [
       "<matplotlib.legend.Legend at 0x7fb4cdb1b850>"
      ]
     },
     "execution_count": 286,
     "metadata": {},
     "output_type": "execute_result"
    },
    {
     "data": {
      "image/png": "[encoded data removed]",
      "text/plain": [
       "<Figure size 432x288 with 1 Axes>"
      ]
     },
     "metadata": {
      "needs_background": "light"
     },
     "output_type": "display_data"
    }
   ],
   "source": [
    "# график соотношения минимальных, максимальных и средних значений разницы общей\n",
    "# стоимости билетов и раходов на топливо по протяжённости линии\n",
    "fig = plt.figure()\n",
    "axes = fig.add_axes([0, 0, 1, 1])\n",
    "axes.bar(x=bills_distance['arrival_city'], height=bills_distance['max'],\n",
    "         width=0.4, align='edge', label='Максимальная выручка')\n",
    "axes.bar(x=bills_distance['arrival_city'], height=bills_distance['mean'],\n",
    "         width=-0.4, align='edge', label='Средняя выручка')\n",
    "axes.bar(x=bills_distance['arrival_city'], height=bills_distance['min'],\n",
    "         width=0.4, align='edge', label='Минимальная выручка')\n",
    "axes.legend(loc=0)"
   ]
  },
  {
   "cell_type": "code",
   "execution_count": 287,
   "metadata": {},
   "outputs": [
    {
     "name": "stdout",
     "output_type": "stream",
     "text": [
      "Процент рейсов выручкой ниже средней по времени рейса\n",
      "Belgorod =  20.555555555555554 Moscow =  26.111111111111114\n",
      "Процент рейсов выручкой ниже средней по протяжённости рейса\n",
      "Belgorod =  20.0 Moscow =  22.77777777777778\n"
     ]
    }
   ],
   "source": [
    "# процент рейсов от общего их количества с выручкой ниже средней\n",
    "# для расхода по времени и по пассажиро - километрам\n",
    "df['profit_time'] = 0\n",
    "for index, row in df.iterrows():\n",
    "    df['profit_time'][index] = df['sum_booking'][index] - \\\n",
    "        df['price_rate_time'][index]\n",
    "\n",
    "df['profit_distance'] = 0\n",
    "for index, row in df.iterrows():\n",
    "    df['profit_distance'][index] = df['sum_booking'][index] - \\\n",
    "        df['price_rate_distance'][index]\n",
    "\n",
    "mean_time = df.groupby(by='arrival_city')[\n",
    "    'profit_time'].agg(['mean']).reset_index()\n",
    "mean_distance = df.groupby(by='arrival_city')[\n",
    "    'profit_distance'].agg(['mean']).reset_index()\n",
    "\n",
    "# процент рейсов выручкой ниже средней по времени рейса\n",
    "small_prof_df_Belgorod = df.loc[(df['profit_time'] < mean_time['mean'][0]) & (\n",
    "    df['arrival_city'] == 'Belgorod')]\n",
    "small_prof_df_Moscow = df.loc[(df['profit_time'] < mean_time['mean'][1]) & (\n",
    "    df['arrival_city'] == 'Moscow')]\n",
    "small_counts_Belgorod = len(small_prof_df_Belgorod)\n",
    "small_counts_Moscow = len(small_prof_df_Moscow)\n",
    "full_counts = len(df)\n",
    "persent_Moscow = small_counts_Moscow/full_counts*100\n",
    "persent_Belgorod = small_counts_Belgorod/full_counts*100\n",
    "print('Процент рейсов выручкой ниже средней по времени рейса\\nBelgorod = ',\n",
    "      persent_Belgorod, 'Moscow = ', persent_Moscow)\n",
    "\n",
    "# процент рейсов выручкой ниже средней по протяжённости рейса\n",
    "small_prof_dist_df_Belgorod = df.loc[(\n",
    "    df['profit_distance'] < mean_time['mean'][0]) & (df['arrival_city'] == 'Belgorod')]\n",
    "small_prof_dist_df_Moscow = df.loc[(\n",
    "    df['profit_distance'] < mean_time['mean'][1]) & (df['arrival_city'] == 'Moscow')]\n",
    "small_counts_Belgorod = len(small_prof_dist_df_Belgorod)\n",
    "small_counts_Moscow = len(small_prof_dist_df_Moscow)\n",
    "full_counts = len(df)\n",
    "persent_Moscow = small_counts_Moscow/full_counts*100\n",
    "persent_Belgorod = small_counts_Belgorod/full_counts*100\n",
    "print('Процент рейсов выручкой ниже средней по протяжённости рейса\\nBelgorod = ',\n",
    "      persent_Belgorod, 'Moscow = ', persent_Moscow)"
   ]
  },
  {
   "cell_type": "code",
   "execution_count": 288,
   "metadata": {},
   "outputs": [
    {
     "data": {
      "text/plain": [
       "Text(0.5, 1.0, 'Рейсы c выручкой ниже средней по времени рейса')"
      ]
     },
     "execution_count": 288,
     "metadata": {},
     "output_type": "execute_result"
    },
    {
     "data": {
      "image/png": "[encoded data removed]",
      "text/plain": [
       "<Figure size 432x288 with 1 Axes>"
      ]
     },
     "metadata": {
      "needs_background": "light"
     },
     "output_type": "display_data"
    }
   ],
   "source": [
    "# Соотношение рейсов c выручкой ниже средней по времени рейса\n",
    "fig = plt.figure()\n",
    "axes = fig.add_axes([0, 0, 1, 1])\n",
    "axes.bar(x=small_prof_df_Belgorod['arrival_city'], height=small_prof_df_Belgorod['profit_time'],\n",
    "         width=0.4, align='edge')\n",
    "axes.bar(x=small_prof_df_Moscow['arrival_city'], height=small_prof_df_Moscow['profit_time'],\n",
    "         width=-0.4, align='edge')\n",
    "axes.set_title('Рейсы c выручкой ниже средней по времени рейса')"
   ]
  },
  {
   "cell_type": "code",
   "execution_count": 298,
   "metadata": {},
   "outputs": [
    {
     "data": {
      "text/plain": [
       "Text(0.5, 1.0, 'Рейсы c выручкой ниже средней по протяжённости рейса')"
      ]
     },
     "execution_count": 298,
     "metadata": {},
     "output_type": "execute_result"
    },
    {
     "data": {
      "image/png": "[encoded data removed]",
      "text/plain": [
       "<Figure size 432x288 with 1 Axes>"
      ]
     },
     "metadata": {
      "needs_background": "light"
     },
     "output_type": "display_data"
    }
   ],
   "source": [
    "# Соотношение рейсов c выручкой ниже средней по протяжённости рейса\n",
    "fig = plt.figure()\n",
    "axes = fig.add_axes([0, 0, 1, 1])\n",
    "axes.bar(x=small_prof_dist_df_Belgorod['arrival_city'], height=small_prof_dist_df_Belgorod['profit_distance'],\n",
    "         width=0.4, align='edge')\n",
    "axes.bar(x=small_prof_dist_df_Moscow['arrival_city'], height=small_prof_dist_df_Moscow['profit_distance'],\n",
    "         width=-0.4, align='edge')\n",
    "axes.set_title('Рейсы c выручкой ниже средней по протяжённости рейса')"
   ]
  },
  {
   "cell_type": "code",
   "execution_count": 294,
   "metadata": {},
   "outputs": [
    {
     "data": {
      "text/plain": [
       "Text(0.5, 1.0, 'Рейсы c выручкой ниже средней по продолжительности рейса')"
      ]
     },
     "execution_count": 294,
     "metadata": {},
     "output_type": "execute_result"
    },
    {
     "data": {
      "image/png": "[encoded data removed]",
      "text/plain": [
       "<Figure size 432x288 with 1 Axes>"
      ]
     },
     "metadata": {
      "needs_background": "light"
     },
     "output_type": "display_data"
    }
   ],
   "source": [
    "# график соотношения значений разницы общей стоимости билетов и раходов на топливо\n",
    "# ниже среднего по длительности полёта по месяцам\n",
    "fig = plt.figure()\n",
    "axes = fig.add_axes([0, 0, 1, 1])\n",
    "axes.bar(x=small_prof_dist_df_Belgorod['flight_month'], height=small_prof_dist_df_Belgorod['profit_time'],\n",
    "         width=0.4, align='edge')\n",
    "axes.bar(x=small_prof_dist_df_Moscow['flight_month'], height=small_prof_dist_df_Moscow['profit_time'],\n",
    "         width=-0.4, align='edge')\n",
    "axes.set_title('Рейсы c выручкой ниже средней по продолжительности рейса')"
   ]
  },
  {
   "cell_type": "code",
   "execution_count": 297,
   "metadata": {},
   "outputs": [
    {
     "data": {
      "text/plain": [
       "Text(0.5, 1.0, 'Рейсы c выручкой ниже средней по протяжённости рейса')"
      ]
     },
     "execution_count": 297,
     "metadata": {},
     "output_type": "execute_result"
    },
    {
     "data": {
      "image/png": "[encoded data removed]",
      "text/plain": [
       "<Figure size 432x288 with 1 Axes>"
      ]
     },
     "metadata": {
      "needs_background": "light"
     },
     "output_type": "display_data"
    }
   ],
   "source": [
    "# график соотношения значений разницы общей стоимости билетов и раходов на топливо\n",
    "# ниже среднего по протяжённости полёта по месяцам\n",
    "fig = plt.figure()\n",
    "axes = fig.add_axes([0, 0, 1, 1])\n",
    "axes.bar(x=small_prof_dist_df_Belgorod['flight_month'], height=small_prof_dist_df_Belgorod['profit_distance'],\n",
    "         width=0.4, align='edge')\n",
    "axes.bar(x=small_prof_dist_df_Moscow['flight_month'], height=small_prof_dist_df_Moscow['profit_distance'],\n",
    "         width=-0.4, align='edge')\n",
    "axes.set_title('Рейсы c выручкой ниже средней по протяжённости рейса')"
   ]
  },
  {
   "cell_type": "code",
   "execution_count": null,
   "metadata": {},
   "outputs": [],
   "source": []
  }
 ],
 "metadata": {
  "kernelspec": {
   "display_name": "Python 3",
   "language": "python",
   "name": "python3"
  },
  "language_info": {
   "codemirror_mode": {
    "name": "ipython",
    "version": 3
   },
   "file_extension": ".py",
   "mimetype": "text/x-python",
   "name": "python",
   "nbconvert_exporter": "python",
   "pygments_lexer": "ipython3",
   "version": "3.8.5"
  }
 },
 "nbformat": 4,
 "nbformat_minor": 4
}
