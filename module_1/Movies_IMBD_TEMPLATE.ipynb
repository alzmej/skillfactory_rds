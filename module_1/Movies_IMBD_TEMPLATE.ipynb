{
 "cells": [
  {
   "cell_type": "code",
   "execution_count": 1,
   "metadata": {
    "_cell_guid": "b1076dfc-b9ad-4769-8c92-a6c4dae69d19",
    "_uuid": "8f2839f25d086af736a60e9eeb907d3b93b6e0e5",
    "colab": {},
    "colab_type": "code",
    "id": "U2D2gTdJVp90"
   },
   "outputs": [],
   "source": [
    "import numpy as np\n",
    "import pandas as pd\n",
    "import seaborn as sns\n",
    "import matplotlib.pyplot as plt\n",
    "from collections import Counter\n",
    "from itertools import combinations"
   ]
  },
  {
   "cell_type": "code",
   "execution_count": 2,
   "metadata": {
    "_cell_guid": "79c7e3d0-c299-4dcb-8224-4455121ee9b0",
    "_uuid": "d629ff2d2480ee46fbb7e2d37f6b5fab8052498a",
    "colab": {},
    "colab_type": "code",
    "id": "oyGfxL3eVp9-"
   },
   "outputs": [
    {
     "data": {
      "text/html": [
       "<div>\n",
       "<style scoped>\n",
       "    .dataframe tbody tr th:only-of-type {\n",
       "        vertical-align: middle;\n",
       "    }\n",
       "\n",
       "    .dataframe tbody tr th {\n",
       "        vertical-align: top;\n",
       "    }\n",
       "\n",
       "    .dataframe thead th {\n",
       "        text-align: right;\n",
       "    }\n",
       "</style>\n",
       "<table border=\"1\" class=\"dataframe\">\n",
       "  <thead>\n",
       "    <tr style=\"text-align: right;\">\n",
       "      <th></th>\n",
       "      <th>imdb_id</th>\n",
       "      <th>budget</th>\n",
       "      <th>revenue</th>\n",
       "      <th>original_title</th>\n",
       "      <th>cast</th>\n",
       "      <th>director</th>\n",
       "      <th>tagline</th>\n",
       "      <th>overview</th>\n",
       "      <th>runtime</th>\n",
       "      <th>genres</th>\n",
       "      <th>production_companies</th>\n",
       "      <th>release_date</th>\n",
       "      <th>vote_average</th>\n",
       "      <th>release_year</th>\n",
       "    </tr>\n",
       "  </thead>\n",
       "  <tbody>\n",
       "    <tr>\n",
       "      <th>1785</th>\n",
       "      <td>tt0368794</td>\n",
       "      <td>20000000</td>\n",
       "      <td>4001121</td>\n",
       "      <td>I'm Not There.</td>\n",
       "      <td>Cate Blanchett|Heath Ledger|Julianne Moore|Ben...</td>\n",
       "      <td>Todd Haynes</td>\n",
       "      <td>All I Can Do Is Be Me Whoever That Is</td>\n",
       "      <td>Six actors portray six personas of music legen...</td>\n",
       "      <td>135</td>\n",
       "      <td>Drama|Music</td>\n",
       "      <td>Endgame Entertainment|Rising Star|Killer Films...</td>\n",
       "      <td>10/1/2007</td>\n",
       "      <td>6.5</td>\n",
       "      <td>2007</td>\n",
       "    </tr>\n",
       "    <tr>\n",
       "      <th>1225</th>\n",
       "      <td>tt2312718</td>\n",
       "      <td>22000000</td>\n",
       "      <td>43058898</td>\n",
       "      <td>Homefront</td>\n",
       "      <td>Jason Statham|James Franco|Izabela Vidovic|Win...</td>\n",
       "      <td>Gary Fleder</td>\n",
       "      <td>How far would you go to protect your home?</td>\n",
       "      <td>Phil Broker is a former DEA agent who has gone...</td>\n",
       "      <td>100</td>\n",
       "      <td>Action|Thriller</td>\n",
       "      <td>Millennium Films|Open Road Films</td>\n",
       "      <td>11/27/2013</td>\n",
       "      <td>6.4</td>\n",
       "      <td>2013</td>\n",
       "    </tr>\n",
       "    <tr>\n",
       "      <th>984</th>\n",
       "      <td>tt1667889</td>\n",
       "      <td>95000000</td>\n",
       "      <td>877244782</td>\n",
       "      <td>Ice Age: Continental Drift</td>\n",
       "      <td>John Leguizamo|Ray Romano|Chris Wedge|Denis Le...</td>\n",
       "      <td>Steve Martino|Mike Thurmeier</td>\n",
       "      <td>Manny, Diego, and Sid embark upon another adve...</td>\n",
       "      <td>Manny, Diego, and Sid embark upon another adve...</td>\n",
       "      <td>88</td>\n",
       "      <td>Animation|Comedy|Adventure|Family</td>\n",
       "      <td>Blue Sky Studios|Twentieth Century Fox Animation</td>\n",
       "      <td>6/26/2012</td>\n",
       "      <td>6.2</td>\n",
       "      <td>2012</td>\n",
       "    </tr>\n",
       "    <tr>\n",
       "      <th>1825</th>\n",
       "      <td>tt0212346</td>\n",
       "      <td>45000000</td>\n",
       "      <td>212000000</td>\n",
       "      <td>Miss Congeniality</td>\n",
       "      <td>Sandra Bullock|Benjamin Bratt|Michael Caine|Ca...</td>\n",
       "      <td>Donald Petrie</td>\n",
       "      <td>Never Mess With An Agent In A Dress.</td>\n",
       "      <td>Gracie Hart is a tough-as-nails FBI officer. W...</td>\n",
       "      <td>111</td>\n",
       "      <td>Comedy|Crime|Action</td>\n",
       "      <td>Village Roadshow Pictures|Castle Rock Entertai...</td>\n",
       "      <td>12/14/2000</td>\n",
       "      <td>6.1</td>\n",
       "      <td>2000</td>\n",
       "    </tr>\n",
       "    <tr>\n",
       "      <th>757</th>\n",
       "      <td>tt0409847</td>\n",
       "      <td>163000000</td>\n",
       "      <td>174822325</td>\n",
       "      <td>Cowboys &amp; Aliens</td>\n",
       "      <td>Daniel Craig|Olivia Wilde|Harrison Ford|Sam Ro...</td>\n",
       "      <td>Jon Favreau</td>\n",
       "      <td>First Contact. Last Stand.</td>\n",
       "      <td>A stranger stumbles into the desert town of Ab...</td>\n",
       "      <td>119</td>\n",
       "      <td>Action|Science Fiction|Thriller|Western</td>\n",
       "      <td>Imagine Entertainment|DreamWorks SKG|Universal...</td>\n",
       "      <td>7/29/2011</td>\n",
       "      <td>5.4</td>\n",
       "      <td>2011</td>\n",
       "    </tr>\n",
       "  </tbody>\n",
       "</table>\n",
       "</div>"
      ],
      "text/plain": [
       "        imdb_id     budget    revenue              original_title  \\\n",
       "1785  tt0368794   20000000    4001121              I'm Not There.   \n",
       "1225  tt2312718   22000000   43058898                   Homefront   \n",
       "984   tt1667889   95000000  877244782  Ice Age: Continental Drift   \n",
       "1825  tt0212346   45000000  212000000           Miss Congeniality   \n",
       "757   tt0409847  163000000  174822325            Cowboys & Aliens   \n",
       "\n",
       "                                                   cast  \\\n",
       "1785  Cate Blanchett|Heath Ledger|Julianne Moore|Ben...   \n",
       "1225  Jason Statham|James Franco|Izabela Vidovic|Win...   \n",
       "984   John Leguizamo|Ray Romano|Chris Wedge|Denis Le...   \n",
       "1825  Sandra Bullock|Benjamin Bratt|Michael Caine|Ca...   \n",
       "757   Daniel Craig|Olivia Wilde|Harrison Ford|Sam Ro...   \n",
       "\n",
       "                          director  \\\n",
       "1785                   Todd Haynes   \n",
       "1225                   Gary Fleder   \n",
       "984   Steve Martino|Mike Thurmeier   \n",
       "1825                 Donald Petrie   \n",
       "757                    Jon Favreau   \n",
       "\n",
       "                                                tagline  \\\n",
       "1785              All I Can Do Is Be Me Whoever That Is   \n",
       "1225         How far would you go to protect your home?   \n",
       "984   Manny, Diego, and Sid embark upon another adve...   \n",
       "1825               Never Mess With An Agent In A Dress.   \n",
       "757                          First Contact. Last Stand.   \n",
       "\n",
       "                                               overview  runtime  \\\n",
       "1785  Six actors portray six personas of music legen...      135   \n",
       "1225  Phil Broker is a former DEA agent who has gone...      100   \n",
       "984   Manny, Diego, and Sid embark upon another adve...       88   \n",
       "1825  Gracie Hart is a tough-as-nails FBI officer. W...      111   \n",
       "757   A stranger stumbles into the desert town of Ab...      119   \n",
       "\n",
       "                                       genres  \\\n",
       "1785                              Drama|Music   \n",
       "1225                          Action|Thriller   \n",
       "984         Animation|Comedy|Adventure|Family   \n",
       "1825                      Comedy|Crime|Action   \n",
       "757   Action|Science Fiction|Thriller|Western   \n",
       "\n",
       "                                   production_companies release_date  \\\n",
       "1785  Endgame Entertainment|Rising Star|Killer Films...    10/1/2007   \n",
       "1225                   Millennium Films|Open Road Films   11/27/2013   \n",
       "984    Blue Sky Studios|Twentieth Century Fox Animation    6/26/2012   \n",
       "1825  Village Roadshow Pictures|Castle Rock Entertai...   12/14/2000   \n",
       "757   Imagine Entertainment|DreamWorks SKG|Universal...    7/29/2011   \n",
       "\n",
       "      vote_average  release_year  \n",
       "1785           6.5          2007  \n",
       "1225           6.4          2013  \n",
       "984            6.2          2012  \n",
       "1825           6.1          2000  \n",
       "757            5.4          2011  "
      ]
     },
     "execution_count": 2,
     "metadata": {},
     "output_type": "execute_result"
    }
   ],
   "source": [
    "data = pd.read_csv('movie_bd_v5.csv')\n",
    "data.sample(5)"
   ]
  },
  {
   "cell_type": "code",
   "execution_count": 3,
   "metadata": {
    "colab": {},
    "colab_type": "code",
    "id": "CoYUnagMVp-C"
   },
   "outputs": [
    {
     "data": {
      "text/html": [
       "<div>\n",
       "<style scoped>\n",
       "    .dataframe tbody tr th:only-of-type {\n",
       "        vertical-align: middle;\n",
       "    }\n",
       "\n",
       "    .dataframe tbody tr th {\n",
       "        vertical-align: top;\n",
       "    }\n",
       "\n",
       "    .dataframe thead th {\n",
       "        text-align: right;\n",
       "    }\n",
       "</style>\n",
       "<table border=\"1\" class=\"dataframe\">\n",
       "  <thead>\n",
       "    <tr style=\"text-align: right;\">\n",
       "      <th></th>\n",
       "      <th>budget</th>\n",
       "      <th>revenue</th>\n",
       "      <th>runtime</th>\n",
       "      <th>vote_average</th>\n",
       "      <th>release_year</th>\n",
       "    </tr>\n",
       "  </thead>\n",
       "  <tbody>\n",
       "    <tr>\n",
       "      <th>count</th>\n",
       "      <td>1.889000e+03</td>\n",
       "      <td>1.889000e+03</td>\n",
       "      <td>1889.000000</td>\n",
       "      <td>1889.000000</td>\n",
       "      <td>1889.000000</td>\n",
       "    </tr>\n",
       "    <tr>\n",
       "      <th>mean</th>\n",
       "      <td>5.431083e+07</td>\n",
       "      <td>1.553653e+08</td>\n",
       "      <td>109.658549</td>\n",
       "      <td>6.140762</td>\n",
       "      <td>2007.860773</td>\n",
       "    </tr>\n",
       "    <tr>\n",
       "      <th>std</th>\n",
       "      <td>4.858721e+07</td>\n",
       "      <td>2.146698e+08</td>\n",
       "      <td>18.017041</td>\n",
       "      <td>0.764763</td>\n",
       "      <td>4.468841</td>\n",
       "    </tr>\n",
       "    <tr>\n",
       "      <th>min</th>\n",
       "      <td>5.000000e+06</td>\n",
       "      <td>2.033165e+06</td>\n",
       "      <td>63.000000</td>\n",
       "      <td>3.300000</td>\n",
       "      <td>2000.000000</td>\n",
       "    </tr>\n",
       "    <tr>\n",
       "      <th>25%</th>\n",
       "      <td>2.000000e+07</td>\n",
       "      <td>3.456058e+07</td>\n",
       "      <td>97.000000</td>\n",
       "      <td>5.600000</td>\n",
       "      <td>2004.000000</td>\n",
       "    </tr>\n",
       "    <tr>\n",
       "      <th>50%</th>\n",
       "      <td>3.800000e+07</td>\n",
       "      <td>8.361541e+07</td>\n",
       "      <td>107.000000</td>\n",
       "      <td>6.100000</td>\n",
       "      <td>2008.000000</td>\n",
       "    </tr>\n",
       "    <tr>\n",
       "      <th>75%</th>\n",
       "      <td>7.200000e+07</td>\n",
       "      <td>1.782626e+08</td>\n",
       "      <td>120.000000</td>\n",
       "      <td>6.600000</td>\n",
       "      <td>2012.000000</td>\n",
       "    </tr>\n",
       "    <tr>\n",
       "      <th>max</th>\n",
       "      <td>3.800000e+08</td>\n",
       "      <td>2.781506e+09</td>\n",
       "      <td>214.000000</td>\n",
       "      <td>8.100000</td>\n",
       "      <td>2015.000000</td>\n",
       "    </tr>\n",
       "  </tbody>\n",
       "</table>\n",
       "</div>"
      ],
      "text/plain": [
       "             budget       revenue      runtime  vote_average  release_year\n",
       "count  1.889000e+03  1.889000e+03  1889.000000   1889.000000   1889.000000\n",
       "mean   5.431083e+07  1.553653e+08   109.658549      6.140762   2007.860773\n",
       "std    4.858721e+07  2.146698e+08    18.017041      0.764763      4.468841\n",
       "min    5.000000e+06  2.033165e+06    63.000000      3.300000   2000.000000\n",
       "25%    2.000000e+07  3.456058e+07    97.000000      5.600000   2004.000000\n",
       "50%    3.800000e+07  8.361541e+07   107.000000      6.100000   2008.000000\n",
       "75%    7.200000e+07  1.782626e+08   120.000000      6.600000   2012.000000\n",
       "max    3.800000e+08  2.781506e+09   214.000000      8.100000   2015.000000"
      ]
     },
     "execution_count": 3,
     "metadata": {},
     "output_type": "execute_result"
    }
   ],
   "source": [
    "data.describe()"
   ]
  },
  {
   "cell_type": "markdown",
   "metadata": {
    "colab_type": "text",
    "id": "DTIt7ezGVp-G"
   },
   "source": [
    "# Предобработка"
   ]
  },
  {
   "cell_type": "code",
   "execution_count": 4,
   "metadata": {
    "colab": {},
    "colab_type": "code",
    "id": "jNb40DwKVp-H"
   },
   "outputs": [],
   "source": [
    "answers = {} # создадим словарь для ответов\n",
    "\n",
    "# тут другие предобработки \n",
    "# расчитываем значение прибыльности (profit = revenue - budget) и значение \n",
    "# помещаем в колонку 'profit'\n",
    "data['profit'] = data['revenue'].values - data['budget'].values  \n",
    "\n",
    "# расчитываем средний бюджет\n",
    "mean_budget = data.budget.mean()\n",
    "\n",
    "# обпределяем словарь месяцев с ключом - порядковым номером месяца\n",
    "# добавляем колонку с наименованиями месяцев по их номеру\n",
    "month_schedule =  {'1':'январь','2':'февраль','3':'март','4':'апрель',\n",
    "'5':'май','6':'июнь','7':'июль','8':'август','9':'сентябрь','10':'октябрь',\n",
    "'11':'ноябрь','12':'декабрь'}\n",
    "data['month'] = list(data['release_date'].str.split('/',expand=True)[0])\n",
    "data['month'] = data['month'].map(month_schedule)\n",
    "\n",
    "# функция высчитывающая количество значений, которые могут быть разделенны \n",
    "# разделителем \"|\" в переданной колонке, переданного датафрейма по всему \n",
    "#датафрейму возвращает словарь \"elements\"\n",
    "def function_sum(df,col1):\n",
    "    elements = {}\n",
    "    element = ''\n",
    "    temp = df[col1]\n",
    "    for line in temp:\n",
    "        if line.find('|'):\n",
    "            info = line.split('|')\n",
    "        else:\n",
    "            info = line\n",
    "        for element in info:\n",
    "            if element in elements:\n",
    "                elements[element] += 1\n",
    "            else:\n",
    "                elements[element] = 1\n",
    "    return elements"
   ]
  },
  {
   "cell_type": "markdown",
   "metadata": {
    "colab_type": "text",
    "id": "YxZaH-nPVp-L"
   },
   "source": [
    "# 1. У какого фильма из списка самый большой бюджет?"
   ]
  },
  {
   "cell_type": "markdown",
   "metadata": {
    "colab_type": "text",
    "id": "Nd-G5gX6Vp-M"
   },
   "source": [
    "Использовать варианты ответов в коде решения запрещено.    \n",
    "Вы думаете и в жизни у вас будут варианты ответов?)"
   ]
  },
  {
   "cell_type": "code",
   "execution_count": 5,
   "metadata": {
    "colab": {},
    "colab_type": "code",
    "id": "uVnXAY5RVp-O"
   },
   "outputs": [],
   "source": [
    "# в словарь вставляем номер вопроса и ваш ответ на него\n",
    "# Пример: \n",
    "#answers['1'] = '2. Spider-Man 3 (tt0413300)'\n",
    "# запишите свой вариант ответа\n",
    "answers['1'] = '1. Pirates of the Caribbean: On Stranger Tides (tt1298650)'\n",
    "# если ответили верно, можете добавить комментарий со значком \"+\""
   ]
  },
  {
   "cell_type": "code",
   "execution_count": 6,
   "metadata": {
    "colab": {},
    "colab_type": "code",
    "id": "dZwb3m28Vp-S"
   },
   "outputs": [
    {
     "data": {
      "text/html": [
       "<div>\n",
       "<style scoped>\n",
       "    .dataframe tbody tr th:only-of-type {\n",
       "        vertical-align: middle;\n",
       "    }\n",
       "\n",
       "    .dataframe tbody tr th {\n",
       "        vertical-align: top;\n",
       "    }\n",
       "\n",
       "    .dataframe thead th {\n",
       "        text-align: right;\n",
       "    }\n",
       "</style>\n",
       "<table border=\"1\" class=\"dataframe\">\n",
       "  <thead>\n",
       "    <tr style=\"text-align: right;\">\n",
       "      <th></th>\n",
       "      <th>original_title</th>\n",
       "      <th>imdb_id</th>\n",
       "    </tr>\n",
       "  </thead>\n",
       "  <tbody>\n",
       "    <tr>\n",
       "      <th>723</th>\n",
       "      <td>Pirates of the Caribbean: On Stranger Tides</td>\n",
       "      <td>tt1298650</td>\n",
       "    </tr>\n",
       "  </tbody>\n",
       "</table>\n",
       "</div>"
      ],
      "text/plain": [
       "                                  original_title    imdb_id\n",
       "723  Pirates of the Caribbean: On Stranger Tides  tt1298650"
      ]
     },
     "execution_count": 6,
     "metadata": {},
     "output_type": "execute_result"
    }
   ],
   "source": [
    "# тут пишем ваш код для решения данного вопроса:\n",
    "data.loc[data.budget==data.budget.max(),['original_title','imdb_id']]"
   ]
  },
  {
   "cell_type": "markdown",
   "metadata": {
    "colab_type": "text",
    "id": "K7L3nbRXVp-X"
   },
   "source": [
    "ВАРИАНТ 2"
   ]
  },
  {
   "cell_type": "code",
   "execution_count": 7,
   "metadata": {
    "colab": {},
    "colab_type": "code",
    "id": "OGaoQI7rVp-X"
   },
   "outputs": [],
   "source": [
    "# можно добавлять разные варианты решения"
   ]
  },
  {
   "cell_type": "markdown",
   "metadata": {
    "colab_type": "text",
    "id": "FNRbbI3vVp-c"
   },
   "source": [
    "# 2. Какой из фильмов самый длительный (в минутах)?"
   ]
  },
  {
   "cell_type": "code",
   "execution_count": 8,
   "metadata": {
    "colab": {},
    "colab_type": "code",
    "id": "vHAoEXNTVp-d"
   },
   "outputs": [],
   "source": [
    "# думаю логику работы с этим словарем вы уже поняли, \n",
    "# по этому не буду больше его дублировать\n",
    "answers['2'] = '2. Gods and Generals (tt0279111)'"
   ]
  },
  {
   "cell_type": "code",
   "execution_count": 9,
   "metadata": {
    "colab": {},
    "colab_type": "code",
    "id": "ot-VX2XrVp-g"
   },
   "outputs": [
    {
     "data": {
      "text/html": [
       "<div>\n",
       "<style scoped>\n",
       "    .dataframe tbody tr th:only-of-type {\n",
       "        vertical-align: middle;\n",
       "    }\n",
       "\n",
       "    .dataframe tbody tr th {\n",
       "        vertical-align: top;\n",
       "    }\n",
       "\n",
       "    .dataframe thead th {\n",
       "        text-align: right;\n",
       "    }\n",
       "</style>\n",
       "<table border=\"1\" class=\"dataframe\">\n",
       "  <thead>\n",
       "    <tr style=\"text-align: right;\">\n",
       "      <th></th>\n",
       "      <th>original_title</th>\n",
       "      <th>imdb_id</th>\n",
       "    </tr>\n",
       "  </thead>\n",
       "  <tbody>\n",
       "    <tr>\n",
       "      <th>1157</th>\n",
       "      <td>Gods and Generals</td>\n",
       "      <td>tt0279111</td>\n",
       "    </tr>\n",
       "  </tbody>\n",
       "</table>\n",
       "</div>"
      ],
      "text/plain": [
       "         original_title    imdb_id\n",
       "1157  Gods and Generals  tt0279111"
      ]
     },
     "execution_count": 9,
     "metadata": {},
     "output_type": "execute_result"
    }
   ],
   "source": [
    "data.loc[data.runtime==data.runtime.max(),['original_title','imdb_id']]"
   ]
  },
  {
   "cell_type": "markdown",
   "metadata": {
    "colab_type": "text",
    "id": "bapLlpW8Vp-k"
   },
   "source": [
    "# 3. Какой из фильмов самый короткий (в минутах)?\n",
    "\n",
    "\n",
    "\n"
   ]
  },
  {
   "cell_type": "code",
   "execution_count": 10,
   "metadata": {
    "colab": {},
    "colab_type": "code",
    "id": "YBxaSHuAVp-l"
   },
   "outputs": [
    {
     "data": {
      "text/html": [
       "<div>\n",
       "<style scoped>\n",
       "    .dataframe tbody tr th:only-of-type {\n",
       "        vertical-align: middle;\n",
       "    }\n",
       "\n",
       "    .dataframe tbody tr th {\n",
       "        vertical-align: top;\n",
       "    }\n",
       "\n",
       "    .dataframe thead th {\n",
       "        text-align: right;\n",
       "    }\n",
       "</style>\n",
       "<table border=\"1\" class=\"dataframe\">\n",
       "  <thead>\n",
       "    <tr style=\"text-align: right;\">\n",
       "      <th></th>\n",
       "      <th>original_title</th>\n",
       "      <th>imdb_id</th>\n",
       "    </tr>\n",
       "  </thead>\n",
       "  <tbody>\n",
       "    <tr>\n",
       "      <th>768</th>\n",
       "      <td>Winnie the Pooh</td>\n",
       "      <td>tt1449283</td>\n",
       "    </tr>\n",
       "  </tbody>\n",
       "</table>\n",
       "</div>"
      ],
      "text/plain": [
       "      original_title    imdb_id\n",
       "768  Winnie the Pooh  tt1449283"
      ]
     },
     "execution_count": 10,
     "metadata": {},
     "output_type": "execute_result"
    }
   ],
   "source": [
    "answers['3'] = '3. Winnie the Pooh (tt1449283)'\n",
    "\n",
    "# получаем минимальное значение по колнке runtime и выводим название фильма \n",
    "data.loc[data.runtime==data.runtime.min(),['original_title','imdb_id']]"
   ]
  },
  {
   "cell_type": "markdown",
   "metadata": {
    "colab_type": "text",
    "id": "TfQbxbfNVp-p"
   },
   "source": [
    "# 4. Какова средняя длительность фильмов?\n"
   ]
  },
  {
   "cell_type": "code",
   "execution_count": 11,
   "metadata": {
    "colab": {},
    "colab_type": "code",
    "id": "5K6dKZYVVp-q"
   },
   "outputs": [
    {
     "data": {
      "text/plain": [
       "109.6585494970884"
      ]
     },
     "execution_count": 11,
     "metadata": {},
     "output_type": "execute_result"
    }
   ],
   "source": [
    "answers['4'] = '4. 109.6586'\n",
    "\n",
    "data.runtime.mean()"
   ]
  },
  {
   "cell_type": "markdown",
   "metadata": {
    "colab_type": "text",
    "id": "r5TvbnT_Vp-u"
   },
   "source": [
    "# 5. Каково медианное значение длительности фильмов? "
   ]
  },
  {
   "cell_type": "code",
   "execution_count": 12,
   "metadata": {
    "colab": {},
    "colab_type": "code",
    "id": "iBROplKnVp-v"
   },
   "outputs": [
    {
     "data": {
      "text/plain": [
       "107.0"
      ]
     },
     "execution_count": 12,
     "metadata": {},
     "output_type": "execute_result"
    }
   ],
   "source": [
    "answers['5'] = '5. 107'\n",
    "\n",
    "data.runtime.median()"
   ]
  },
  {
   "cell_type": "markdown",
   "metadata": {
    "colab_type": "text",
    "id": "39P-deDSVp-y"
   },
   "source": [
    "# 6. Какой самый прибыльный фильм?\n",
    "#### Внимание! Здесь и далее под «прибылью» или «убытками» понимается разность между сборами и бюджетом фильма. (прибыль = сборы - бюджет) в нашем датасете это будет (profit = revenue - budget) "
   ]
  },
  {
   "cell_type": "code",
   "execution_count": 13,
   "metadata": {
    "colab": {},
    "colab_type": "code",
    "id": "UYZh4T9WVp-y"
   },
   "outputs": [
    {
     "data": {
      "text/html": [
       "<div>\n",
       "<style scoped>\n",
       "    .dataframe tbody tr th:only-of-type {\n",
       "        vertical-align: middle;\n",
       "    }\n",
       "\n",
       "    .dataframe tbody tr th {\n",
       "        vertical-align: top;\n",
       "    }\n",
       "\n",
       "    .dataframe thead th {\n",
       "        text-align: right;\n",
       "    }\n",
       "</style>\n",
       "<table border=\"1\" class=\"dataframe\">\n",
       "  <thead>\n",
       "    <tr style=\"text-align: right;\">\n",
       "      <th></th>\n",
       "      <th>original_title</th>\n",
       "      <th>imdb_id</th>\n",
       "    </tr>\n",
       "  </thead>\n",
       "  <tbody>\n",
       "    <tr>\n",
       "      <th>239</th>\n",
       "      <td>Avatar</td>\n",
       "      <td>tt0499549</td>\n",
       "    </tr>\n",
       "  </tbody>\n",
       "</table>\n",
       "</div>"
      ],
      "text/plain": [
       "    original_title    imdb_id\n",
       "239         Avatar  tt0499549"
      ]
     },
     "execution_count": 13,
     "metadata": {},
     "output_type": "execute_result"
    }
   ],
   "source": [
    "# лучше код получения столбца profit вынести в Предобработку что в начале\n",
    "answers['6'] = '6. Avatar (tt0499549)'\n",
    "\n",
    "# по максимальному значению из колонки profit выводим наименование фильма\n",
    "data.loc[data.profit==data.profit.max(),['original_title','imdb_id']]"
   ]
  },
  {
   "cell_type": "markdown",
   "metadata": {
    "colab_type": "text",
    "id": "M99JmIX4Vp-2"
   },
   "source": [
    "# 7. Какой фильм самый убыточный? "
   ]
  },
  {
   "cell_type": "code",
   "execution_count": 14,
   "metadata": {
    "colab": {},
    "colab_type": "code",
    "id": "w-D2m4XPVp-3"
   },
   "outputs": [
    {
     "data": {
      "text/html": [
       "<div>\n",
       "<style scoped>\n",
       "    .dataframe tbody tr th:only-of-type {\n",
       "        vertical-align: middle;\n",
       "    }\n",
       "\n",
       "    .dataframe tbody tr th {\n",
       "        vertical-align: top;\n",
       "    }\n",
       "\n",
       "    .dataframe thead th {\n",
       "        text-align: right;\n",
       "    }\n",
       "</style>\n",
       "<table border=\"1\" class=\"dataframe\">\n",
       "  <thead>\n",
       "    <tr style=\"text-align: right;\">\n",
       "      <th></th>\n",
       "      <th>original_title</th>\n",
       "      <th>imdb_id</th>\n",
       "    </tr>\n",
       "  </thead>\n",
       "  <tbody>\n",
       "    <tr>\n",
       "      <th>1245</th>\n",
       "      <td>The Lone Ranger</td>\n",
       "      <td>tt1210819</td>\n",
       "    </tr>\n",
       "  </tbody>\n",
       "</table>\n",
       "</div>"
      ],
      "text/plain": [
       "       original_title    imdb_id\n",
       "1245  The Lone Ranger  tt1210819"
      ]
     },
     "execution_count": 14,
     "metadata": {},
     "output_type": "execute_result"
    }
   ],
   "source": [
    "answers['7'] = '7. The Lone Ranger (tt1210819)'\n",
    "\n",
    "# по минимальному значению из колонки profit выводим наименование фильма\n",
    "data.loc[data.profit==data.profit.min(),['original_title','imdb_id']]"
   ]
  },
  {
   "cell_type": "markdown",
   "metadata": {
    "colab_type": "text",
    "id": "wEOM5ERVVp-6"
   },
   "source": [
    "# 8. У скольких фильмов из датасета объем сборов оказался выше бюджета?"
   ]
  },
  {
   "cell_type": "code",
   "execution_count": 15,
   "metadata": {
    "colab": {},
    "colab_type": "code",
    "id": "y00_7HD6Vp-7"
   },
   "outputs": [
    {
     "data": {
      "text/plain": [
       "1478"
      ]
     },
     "execution_count": 15,
     "metadata": {},
     "output_type": "execute_result"
    }
   ],
   "source": [
    "answers['8'] = '8. 1478'\n",
    "\n",
    "data[data.revenue>data.budget].count()['imdb_id']"
   ]
  },
  {
   "cell_type": "markdown",
   "metadata": {
    "colab_type": "text",
    "id": "xhpspA9KVp_A"
   },
   "source": [
    "# 9. Какой фильм оказался самым кассовым в 2008 году?"
   ]
  },
  {
   "cell_type": "code",
   "execution_count": 16,
   "metadata": {
    "colab": {},
    "colab_type": "code",
    "id": "MoUyQr9RVp_B"
   },
   "outputs": [
    {
     "data": {
      "text/html": [
       "<div>\n",
       "<style scoped>\n",
       "    .dataframe tbody tr th:only-of-type {\n",
       "        vertical-align: middle;\n",
       "    }\n",
       "\n",
       "    .dataframe tbody tr th {\n",
       "        vertical-align: top;\n",
       "    }\n",
       "\n",
       "    .dataframe thead th {\n",
       "        text-align: right;\n",
       "    }\n",
       "</style>\n",
       "<table border=\"1\" class=\"dataframe\">\n",
       "  <thead>\n",
       "    <tr style=\"text-align: right;\">\n",
       "      <th></th>\n",
       "      <th>original_title</th>\n",
       "      <th>imdb_id</th>\n",
       "    </tr>\n",
       "  </thead>\n",
       "  <tbody>\n",
       "    <tr>\n",
       "      <th>599</th>\n",
       "      <td>The Dark Knight</td>\n",
       "      <td>tt0468569</td>\n",
       "    </tr>\n",
       "  </tbody>\n",
       "</table>\n",
       "</div>"
      ],
      "text/plain": [
       "      original_title    imdb_id\n",
       "599  The Dark Knight  tt0468569"
      ]
     },
     "metadata": {},
     "output_type": "display_data"
    }
   ],
   "source": [
    "answers['9'] = '9. The Dark Knight (tt0468569)'\n",
    "\n",
    "#сначала отбираем в временный датафрейм все фильмы 2008 года, за тем вычисляем самый кассовый\n",
    "temp_data = data.loc[data.release_year==2008,\n",
    "['original_title','imdb_id','profit']]\n",
    "temp_data = temp_data.loc[temp_data.profit==temp_data.profit.max(),\n",
    "['original_title','imdb_id']]\n",
    "display(temp_data)"
   ]
  },
  {
   "cell_type": "markdown",
   "metadata": {
    "colab_type": "text",
    "id": "Zi4hDKidVp_F"
   },
   "source": [
    "# 10. Самый убыточный фильм за период с 2012 по 2014 г. (включительно)?\n"
   ]
  },
  {
   "cell_type": "code",
   "execution_count": 17,
   "metadata": {
    "colab": {},
    "colab_type": "code",
    "id": "XqyRmufJVp_F"
   },
   "outputs": [
    {
     "data": {
      "text/html": [
       "<div>\n",
       "<style scoped>\n",
       "    .dataframe tbody tr th:only-of-type {\n",
       "        vertical-align: middle;\n",
       "    }\n",
       "\n",
       "    .dataframe tbody tr th {\n",
       "        vertical-align: top;\n",
       "    }\n",
       "\n",
       "    .dataframe thead th {\n",
       "        text-align: right;\n",
       "    }\n",
       "</style>\n",
       "<table border=\"1\" class=\"dataframe\">\n",
       "  <thead>\n",
       "    <tr style=\"text-align: right;\">\n",
       "      <th></th>\n",
       "      <th>original_title</th>\n",
       "      <th>imdb_id</th>\n",
       "    </tr>\n",
       "  </thead>\n",
       "  <tbody>\n",
       "    <tr>\n",
       "      <th>1245</th>\n",
       "      <td>The Lone Ranger</td>\n",
       "      <td>tt1210819</td>\n",
       "    </tr>\n",
       "  </tbody>\n",
       "</table>\n",
       "</div>"
      ],
      "text/plain": [
       "       original_title    imdb_id\n",
       "1245  The Lone Ranger  tt1210819"
      ]
     },
     "metadata": {},
     "output_type": "display_data"
    }
   ],
   "source": [
    "answers['10'] = '10. The Lone Ranger (tt1210819)'\n",
    "\n",
    "#сначала отбираем в временный датафрейм все фильмы за период 2012 - 2014 года, за тем вычисляем самый убыточный\n",
    "temp_data = data.loc[(data.release_year>=2012) &\n",
    "(data.release_year<=2014),['original_title','imdb_id','profit']]\n",
    "temp_data = temp_data.loc[temp_data.profit==temp_data.profit.min(),\n",
    "['original_title','imdb_id']]\n",
    "display(temp_data)"
   ]
  },
  {
   "cell_type": "markdown",
   "metadata": {
    "colab_type": "text",
    "id": "EA7Sa9dkVp_I"
   },
   "source": [
    "# 11. Какого жанра фильмов больше всего?"
   ]
  },
  {
   "cell_type": "code",
   "execution_count": 18,
   "metadata": {
    "colab": {},
    "colab_type": "code",
    "id": "zsJAwJ8QVp_J"
   },
   "outputs": [
    {
     "name": "stdout",
     "output_type": "stream",
     "text": [
      "Drama\n"
     ]
    }
   ],
   "source": [
    "# эту задачу тоже можно решать разными подходами, попробуй реализовать разные варианты\n",
    "# если будешь добавлять функцию - выноси ее в предобработку что в начале\n",
    "answers['11'] = '11. Drama'\n",
    "\n",
    "# первый вариант с вычислениями непосредственно в задаче, где в цикле получаем\n",
    "# словарь с частотой жанров и выводим натиболее часто встречащийся\n",
    "temp_genres1 = []\n",
    "genres1 = {}\n",
    "temp_genres1 = data['genres']\n",
    "\n",
    "for line in temp_genres1:\n",
    "    info = line.split('|')\n",
    "    for genre in info:\n",
    "        if genre in genres1:\n",
    "            genres1[genre] += 1\n",
    "        else:\n",
    "            genres1[genre] = 1\n",
    "            \n",
    "print(list(genres1.keys())[list(genres1.values())\n",
    ".index(max(genres1.values()))])"
   ]
  },
  {
   "cell_type": "markdown",
   "metadata": {
    "colab_type": "text",
    "id": "Ax6g2C8SVp_M"
   },
   "source": [
    "ВАРИАНТ 2"
   ]
  },
  {
   "cell_type": "code",
   "execution_count": 19,
   "metadata": {
    "colab": {},
    "colab_type": "code",
    "id": "otO3SbrSVp_N"
   },
   "outputs": [
    {
     "name": "stdout",
     "output_type": "stream",
     "text": [
      "Drama\n"
     ]
    }
   ],
   "source": [
    "genres_sum = {}\n",
    "\n",
    "# второй вариант с использованием функции для вычисления частот встречаемости\n",
    "# жанров\n",
    "temp_genres2 = data\n",
    "genres_sum = function_sum(temp_genres2,'genres')\n",
    "print(list(genres_sum.keys())[list(genres_sum.values())\n",
    ".index(max(genres_sum.values()))])"
   ]
  },
  {
   "cell_type": "markdown",
   "metadata": {
    "colab_type": "text",
    "id": "T9_bPWpkVp_Q"
   },
   "source": [
    "# 12. Фильмы какого жанра чаще всего становятся прибыльными? "
   ]
  },
  {
   "cell_type": "code",
   "execution_count": 20,
   "metadata": {
    "colab": {},
    "colab_type": "code",
    "id": "Tmt8MaK1Vp_R"
   },
   "outputs": [
    {
     "name": "stdout",
     "output_type": "stream",
     "text": [
      "Drama\n"
     ]
    }
   ],
   "source": [
    "answers['12'] = '12.  Drama'\n",
    "\n",
    "# на первом этапе в промежуточном датафрейме собираем данные \n",
    "# о фильмах с положительным доходом, на втором в функции вычисляем \n",
    "# наиболее часто встречающийся в этом датафрейме жанр\n",
    "data_profit = data[data['profit']>0]\n",
    "genres_profit = function_sum(data_profit,'genres')            \n",
    "print(list(genres_profit.keys())[list(genres_profit.values())\n",
    ".index(max(genres_profit.values()))])"
   ]
  },
  {
   "cell_type": "markdown",
   "metadata": {
    "colab_type": "text",
    "id": "0F23bgsDVp_U"
   },
   "source": [
    "# 13. У какого режиссера самые большие суммарные кассовые сборы?"
   ]
  },
  {
   "cell_type": "code",
   "execution_count": 21,
   "metadata": {
    "colab": {},
    "colab_type": "code",
    "id": "K6Z3J8ygVp_X"
   },
   "outputs": [
    {
     "data": {
      "text/plain": [
       "director\n",
       "Peter Jackson    6490593685\n",
       "Name: revenue, dtype: int64"
      ]
     },
     "metadata": {},
     "output_type": "display_data"
    }
   ],
   "source": [
    "answers['13'] = '13. Peter Jackson'\n",
    "\n",
    "# в промежуточный датафрейм отбираем имена режисеров и суммы \n",
    "# кассовых сборов, упорядоченные по убыванию и берём наиболешее значение\n",
    "director_df = data.groupby(['director'])['revenue'].sum().sort_values(ascending=False)\n",
    "display(director_df.head(1))"
   ]
  },
  {
   "cell_type": "markdown",
   "metadata": {
    "colab_type": "text",
    "id": "PsYC9FgRVp_a"
   },
   "source": [
    "# 14. Какой режисер снял больше всего фильмов в стиле Action?"
   ]
  },
  {
   "cell_type": "code",
   "execution_count": 22,
   "metadata": {
    "colab": {},
    "colab_type": "code",
    "id": "wd2M-wHeVp_b"
   },
   "outputs": [
    {
     "name": "stdout",
     "output_type": "stream",
     "text": [
      "Robert Rodriguez\n"
     ]
    }
   ],
   "source": [
    "answers['14'] = '14. Robert Rodriguez'\n",
    "\n",
    "# на первом этапе в промежуточном датафрейме собираем данные \n",
    "# о фильмах с в жанре \"Action\", на втором в функции вычисляем \n",
    "# наиболее часто встречающегося в этом датафрейме режисера\n",
    "temp_directors = data[data['genres'].str.contains(r'Action',\n",
    "case=True,na=False)]\n",
    "directors = function_sum(temp_directors,'director')\n",
    "            \n",
    "print(list(directors.keys())[list(directors.values())\n",
    ".index(max(directors.values()))])"
   ]
  },
  {
   "cell_type": "markdown",
   "metadata": {
    "colab_type": "text",
    "id": "PQ0KciD7Vp_f"
   },
   "source": [
    "# 15. Фильмы с каким актером принесли самые высокие кассовые сборы в 2012 году? "
   ]
  },
  {
   "cell_type": "code",
   "execution_count": 23,
   "metadata": {
    "colab": {},
    "colab_type": "code",
    "id": "aga62oeKVp_g"
   },
   "outputs": [
    {
     "name": "stdout",
     "output_type": "stream",
     "text": [
      "Chris Hemsworth\n"
     ]
    }
   ],
   "source": [
    "answers['15'] = '15. Chris Hemsworth'\n",
    "\n",
    "# на первом этапе в промежуточном датафрейме собираем данные \n",
    "# о фильмах, вышедших в 2012 году, на втором в цикле вычисляем \n",
    "# суммарный доход фильмов по каждому актеру и выводим актера с \n",
    "# фильмы с которым в сумме оказались наиболее доходными\n",
    "data_release_year = data[data['release_year']==2012]\n",
    "cast_data = data_release_year[data_release_year.columns[2:5:2]]\n",
    "actors = {}\n",
    "\n",
    "for index,line in cast_data.iterrows():\n",
    "    temp_actors = line['cast'].split('|')\n",
    "    for actor in temp_actors:\n",
    "        if actor in actors:\n",
    "            actors[actor] += line['revenue']\n",
    "        else:\n",
    "            actors[actor] = line['revenue']\n",
    "            \n",
    "print(list(actors.keys())[list(actors.values())\n",
    ".index(max(actors.values()))])"
   ]
  },
  {
   "cell_type": "markdown",
   "metadata": {
    "colab_type": "text",
    "id": "mWHyyL7QVp_j"
   },
   "source": [
    "# 16. Какой актер снялся в большем количестве высокобюджетных фильмов?"
   ]
  },
  {
   "cell_type": "code",
   "execution_count": 24,
   "metadata": {
    "colab": {},
    "colab_type": "code",
    "id": "qQtmHKTFVp_k"
   },
   "outputs": [
    {
     "name": "stdout",
     "output_type": "stream",
     "text": [
      "Matt Damon\n"
     ]
    }
   ],
   "source": [
    "answers['16'] = '16. Matt Damon'\n",
    "\n",
    "# на первом этапе в промежуточном датафрейме собираем данные \n",
    "# о фильмах с бюджетом выше среднего, на втором в функции вычисляем \n",
    "# наиболее часто встречающегося в этом датафрейме актера\n",
    "data_high_budget = data[data['budget'] > mean_budget]\n",
    "\n",
    "actors_high_budget = function_sum(data_high_budget,'cast')\n",
    "            \n",
    "print(list(actors_high_budget.keys())[list(actors_high_budget.values())\n",
    ".index(max(actors_high_budget.values()))])"
   ]
  },
  {
   "cell_type": "markdown",
   "metadata": {
    "colab_type": "text",
    "id": "NIh6AaW5Vp_n"
   },
   "source": [
    "# 17. В фильмах какого жанра больше всего снимался Nicolas Cage? "
   ]
  },
  {
   "cell_type": "code",
   "execution_count": 25,
   "metadata": {
    "colab": {},
    "colab_type": "code",
    "id": "H74SJDIBVp_n"
   },
   "outputs": [
    {
     "name": "stdout",
     "output_type": "stream",
     "text": [
      "Action\n"
     ]
    }
   ],
   "source": [
    "answers['17'] = '17. Action'\n",
    "\n",
    "# на первом этапе в промежуточном датафрейме собираем данные \n",
    "# о фильмах с где снимался Nicolas Cage, на втором в функции вычисляем \n",
    "# наиболее часто встречающегося в этом датафрейме жанр\n",
    "temp_NCage = data[data['cast'].str.contains(r'Nicolas Cage',\n",
    "case=True,na=False)]\n",
    "\n",
    "genres_NC = function_sum(temp_NCage,'genres')\n",
    "print(list(genres_NC.keys())[list(genres_NC.values())\n",
    ".index(max(genres_NC.values()))])"
   ]
  },
  {
   "cell_type": "markdown",
   "metadata": {
    "colab_type": "text",
    "id": "RqOmPRfWVp_q"
   },
   "source": [
    "# 18. Самый убыточный фильм от Paramount Pictures"
   ]
  },
  {
   "cell_type": "code",
   "execution_count": 26,
   "metadata": {
    "colab": {},
    "colab_type": "code",
    "id": "9E_B0Y96Vp_r"
   },
   "outputs": [
    {
     "data": {
      "text/html": [
       "<div>\n",
       "<style scoped>\n",
       "    .dataframe tbody tr th:only-of-type {\n",
       "        vertical-align: middle;\n",
       "    }\n",
       "\n",
       "    .dataframe tbody tr th {\n",
       "        vertical-align: top;\n",
       "    }\n",
       "\n",
       "    .dataframe thead th {\n",
       "        text-align: right;\n",
       "    }\n",
       "</style>\n",
       "<table border=\"1\" class=\"dataframe\">\n",
       "  <thead>\n",
       "    <tr style=\"text-align: right;\">\n",
       "      <th></th>\n",
       "      <th>original_title</th>\n",
       "      <th>imdb_id</th>\n",
       "      <th>profit</th>\n",
       "    </tr>\n",
       "  </thead>\n",
       "  <tbody>\n",
       "    <tr>\n",
       "      <th>925</th>\n",
       "      <td>K-19: The Widowmaker</td>\n",
       "      <td>tt0267626</td>\n",
       "      <td>-64831034</td>\n",
       "    </tr>\n",
       "  </tbody>\n",
       "</table>\n",
       "</div>"
      ],
      "text/plain": [
       "           original_title    imdb_id    profit\n",
       "925  K-19: The Widowmaker  tt0267626 -64831034"
      ]
     },
     "execution_count": 26,
     "metadata": {},
     "output_type": "execute_result"
    }
   ],
   "source": [
    "answers['18'] = '18. K-19: The Widowmaker (tt0267626)'\n",
    "\n",
    "# на первом этапе в промежуточном датафрейме собираем данные \n",
    "# о фильмах снятых Paramount Pictures, на втором в функции \n",
    "# вычисляем наиболее убыточный фильм\n",
    "data_lesion = data[data['production_companies']\n",
    ".str.contains(r'Paramount Pictures',case=True,na=False)]\n",
    "data_lesion.loc[data_lesion.profit == data_lesion.profit.min(),\n",
    "['original_title','imdb_id','profit']]"
   ]
  },
  {
   "cell_type": "markdown",
   "metadata": {
    "colab_type": "text",
    "id": "vS8Ur6ddVp_u"
   },
   "source": [
    "# 19. Какой год стал самым успешным по суммарным кассовым сборам?"
   ]
  },
  {
   "cell_type": "code",
   "execution_count": 27,
   "metadata": {
    "colab": {},
    "colab_type": "code",
    "id": "Dnbt4GdIVp_v"
   },
   "outputs": [
    {
     "data": {
      "text/plain": [
       "release_year\n",
       "2015    25449202382\n",
       "Name: revenue, dtype: int64"
      ]
     },
     "metadata": {},
     "output_type": "display_data"
    }
   ],
   "source": [
    "answers['19'] = '19. 2015'\n",
    "\n",
    "# на первом этапе в промежуточном датафрейме группируем данные \n",
    "# о фильмах и сборах по годам, на втором в функции вычисляем \n",
    "# год с наимбольшими сборами\n",
    "data_year = data.groupby(['release_year'])['revenue'].sum()\n",
    "data_year = data_year.loc[(data_year==data_year.max())]\n",
    "display(data_year)"
   ]
  },
  {
   "cell_type": "markdown",
   "metadata": {
    "colab_type": "text",
    "id": "JAzJh4QAVp_z"
   },
   "source": [
    "# 20. Какой самый прибыльный год для студии Warner Bros?"
   ]
  },
  {
   "cell_type": "code",
   "execution_count": 28,
   "metadata": {
    "colab": {},
    "colab_type": "code",
    "id": "wgVu02DEVp_0"
   },
   "outputs": [
    {
     "data": {
      "text/plain": [
       "release_year\n",
       "2014    3243064519\n",
       "Name: revenue, dtype: int64"
      ]
     },
     "metadata": {},
     "output_type": "display_data"
    }
   ],
   "source": [
    "answers['20'] = '20. 2014'\n",
    "\n",
    "# на первом этапе в промежуточном датафрейме собираем данные \n",
    "# о фильмах снятых Warner Bros, на втором группируем год и сумму сборов\n",
    "# на третьем получаем наиболее прибыльный год\n",
    "data_wb = data[data['production_companies'].str.contains(r'Warner Bros',\n",
    "case=True,na=False)]\n",
    "data_wb = data_wb.groupby(['release_year'])['revenue'].sum()\n",
    "data_wb = data_wb.loc[(data_wb==data_wb.max())]\n",
    "display(data_wb)"
   ]
  },
  {
   "cell_type": "markdown",
   "metadata": {
    "colab_type": "text",
    "id": "8Im1S2HRVp_4"
   },
   "source": [
    "# 21. В каком месяце за все годы суммарно вышло больше всего фильмов?"
   ]
  },
  {
   "cell_type": "code",
   "execution_count": 29,
   "metadata": {
    "colab": {},
    "colab_type": "code",
    "id": "lev6TH7gVp_4"
   },
   "outputs": [
    {
     "name": "stdout",
     "output_type": "stream",
     "text": [
      "сентябрь\n"
     ]
    }
   ],
   "source": [
    "answers['21'] = '21. сентябрь'\n",
    "\n",
    "# в функции вычисляем месяц с наимбольшим количеством\n",
    "# релизов, выводим месяц с наибольшим значением\n",
    "months = function_sum(data,'month')            \n",
    "print(list(months.keys())[list(months.values())\n",
    ".index(max(months.values()))])"
   ]
  },
  {
   "cell_type": "markdown",
   "metadata": {
    "colab_type": "text",
    "id": "uAJsZ_NeVp_7"
   },
   "source": [
    "# 22. Сколько суммарно вышло фильмов летом? (за июнь, июль, август)"
   ]
  },
  {
   "cell_type": "code",
   "execution_count": 30,
   "metadata": {
    "colab": {},
    "colab_type": "code",
    "id": "Aa-hEREoVp_8"
   },
   "outputs": [
    {
     "name": "stdout",
     "output_type": "stream",
     "text": [
      "450\n"
     ]
    }
   ],
   "source": [
    "answers['22'] = '22. 450'\n",
    "\n",
    "# в цикле вычисляем по перечню месяцев (июнь, июль, август) число\n",
    "# релизов, выводим количество\n",
    "summer_sum = 0\n",
    "\n",
    "for month in months.items():\n",
    "    if month[0]=='июнь' or month[0]=='июль' or month[0]=='август':\n",
    "        summer_sum += month[1]\n",
    "print(summer_sum)"
   ]
  },
  {
   "cell_type": "markdown",
   "metadata": {
    "colab_type": "text",
    "id": "G94ppOY1VqAA"
   },
   "source": [
    "# 23. Для какого режиссера зима – самое продуктивное время года? "
   ]
  },
  {
   "cell_type": "code",
   "execution_count": 31,
   "metadata": {
    "colab": {},
    "colab_type": "code",
    "id": "RhNTsamuVqAB"
   },
   "outputs": [
    {
     "name": "stdout",
     "output_type": "stream",
     "text": [
      "Peter Jackson\n"
     ]
    }
   ],
   "source": [
    "answers['23'] = '23. Peter Jackson'\n",
    "\n",
    "# на первом этапе в промежуточном датафрейме группируем данные \n",
    "# о фильмах что вышли зимой, на втором в функции вычисляем \n",
    "# режисера с наимбольшими числом фильмов\n",
    "temp_whinter = data[data['month'].str.contains(r'декабрь|январь|февраль',\n",
    "case=True,na=False)]\n",
    "\n",
    "whinter_directors = function_sum(temp_whinter,'director')\n",
    "print(list(whinter_directors.keys())[list(whinter_directors.values())\n",
    ".index(max(whinter_directors.values()))])"
   ]
  },
  {
   "cell_type": "markdown",
   "metadata": {
    "colab_type": "text",
    "id": "RBo0JVjVVqAF"
   },
   "source": [
    "# 24. Какая студия дает самые длинные названия своим фильмам по количеству символов?"
   ]
  },
  {
   "cell_type": "code",
   "execution_count": 32,
   "metadata": {
    "colab": {},
    "colab_type": "code",
    "id": "QRGS8L0iVqAG"
   },
   "outputs": [
    {
     "name": "stdout",
     "output_type": "stream",
     "text": [
      "Four By Two Productions\n"
     ]
    }
   ],
   "source": [
    "answers['24'] = '24. Four By Two Productions'\n",
    "\n",
    "# в цикле в словарь писков отбираем компании и длины названий их фильмов\n",
    "# на втором вычисляем средние длины названий и помещаем в словарь\n",
    "# выводим название компании с наибольшей средней длиной названия фильмов\n",
    "companies = {}\n",
    "result  = {}\n",
    "\n",
    "for index,line in data.iterrows():\n",
    "    temp_company = line['production_companies'].split('|')\n",
    "    for company in temp_company:\n",
    "        name_len = len(line['original_title'])\n",
    "        companies.setdefault(company, []).append(name_len)        \n",
    "result = {key:sum(value)/len(value) for key,value in companies.items()}            \n",
    "print(list(result.keys())[list(result.values()).index(max(result.values()))])"
   ]
  },
  {
   "cell_type": "markdown",
   "metadata": {
    "colab_type": "text",
    "id": "9G0hbvR7VqAK"
   },
   "source": [
    "# 25. Описание фильмов какой студии в среднем самые длинные по количеству слов?"
   ]
  },
  {
   "cell_type": "code",
   "execution_count": 33,
   "metadata": {
    "colab": {},
    "colab_type": "code",
    "id": "Ge2GsLNxVqAK"
   },
   "outputs": [
    {
     "name": "stdout",
     "output_type": "stream",
     "text": [
      "Midnight Picture Show\n"
     ]
    }
   ],
   "source": [
    "answers['25'] = '25. Midnight Picture Show'\n",
    "\n",
    "# в цикле в словарь писков отбираем компании и длины названий описаний\n",
    "# их фильмов, на втором вычисляем средние длины описаний и помещаем в словарь\n",
    "# выводим название компании с наибольшей средней длиной описания фильмов\n",
    "companies = {}\n",
    "result  = {}\n",
    "\n",
    "for index,line in data.iterrows():\n",
    "    temp_overview = line['production_companies'].split('|')\n",
    "    for company in temp_overview:\n",
    "        overview_len = len(line['overview'])\n",
    "        companies.setdefault(company, []).append(overview_len)        \n",
    "result = {key:sum(value)/len(value) for key,value in companies.items()}            \n",
    "print(list(result.keys())[list(result.values()).index(max(result.values()))])"
   ]
  },
  {
   "cell_type": "markdown",
   "metadata": {
    "colab_type": "text",
    "id": "FJ1AFt90VqAP"
   },
   "source": [
    "# 26. Какие фильмы входят в 1 процент лучших по рейтингу? \n",
    "по vote_average"
   ]
  },
  {
   "cell_type": "code",
   "execution_count": 34,
   "metadata": {
    "colab": {},
    "colab_type": "code",
    "id": "8qmJVq4CVqAQ"
   },
   "outputs": [
    {
     "name": "stdout",
     "output_type": "stream",
     "text": [
      "The Dark Knight,\n",
      "Inside Out,\n",
      "Room,\n",
      "Interstellar,\n",
      "The Imitation Game,\n",
      "Guardians of the Galaxy,\n",
      "Gone Girl,\n",
      "The Grand Budapest Hotel,\n",
      "Inception,\n",
      "The Pianist,\n",
      "The Lord of the Rings: The Return of the King,\n",
      "The Wolf of Wall Street,\n",
      "12 Years a Slave,\n",
      "Memento,\n"
     ]
    }
   ],
   "source": [
    "answers['26'] = '26. The Dark Knight,Inside Out,Room,Interstellar,The Imitation Game,Guardians of the Galaxy,Gone Girl,The Grand Budapest Hotel,Inception,The Pianist,The Lord of the Rings: The Return of the King,The Wolf of Wall Street,12 Years a Slave,Memento'\n",
    "\n",
    "# на первом этапе вычисляем процент для оценок и помещаем в словарь, \n",
    "# сортируем. На втором в список отбираем фильмы, вошедшие в первый\n",
    "# процент наибольших оценок. На третьем выводим перечень фильмов.\n",
    "percent = {}\n",
    "percent_vote = []\n",
    "percent_sum = 0\n",
    "percent_df = data.groupby('vote_average').size() / len(data) * 100\n",
    "percent = percent_df.to_dict()\n",
    "percent = dict(sorted(percent.items(), reverse=True))\n",
    "\n",
    "for index, cent_sum in percent.items():\n",
    "    percent_sum = percent_sum+cent_sum    \n",
    "    if percent_sum<1:\n",
    "        percent_vote.append(list(data[data['vote_average'] == index]\n",
    "        ['original_title']))\n",
    "\n",
    "for val in percent_vote:\n",
    "    for vval in val:\n",
    "        print(vval+',')"
   ]
  },
  {
   "cell_type": "markdown",
   "metadata": {
    "colab_type": "text",
    "id": "MdXsUXbCVqAV"
   },
   "source": [
    "# 27. Какие актеры чаще всего снимаются в одном фильме вместе?\n"
   ]
  },
  {
   "cell_type": "code",
   "execution_count": 35,
   "metadata": {
    "colab_type": "text",
    "id": "4ymnxEVoVqAW"
   },
   "outputs": [
    {
     "name": "stdout",
     "output_type": "stream",
     "text": [
      "('Daniel Radcliffe', 'Emma Watson')\n",
      "('Daniel Radcliffe', 'Rupert Grint')\n",
      "('Emma Watson', 'Rupert Grint')\n"
     ]
    }
   ],
   "source": [
    "answers['27'] = '27. Daniel Radcliffe & Rupert Grint, Daniel Radcliffe & Emma Watson, Emma Watson & Rupert Grint'\n",
    "\n",
    "# на первом этапе вычисляем на сколько часто актеры встречаются попарно \n",
    "# фильмах, на втором выводим наиболее часто встречающиеся пары\n",
    "data_couple = Counter()\n",
    "temp_num = 0\n",
    "temp_actors = data['cast']\n",
    "\n",
    "for line in temp_actors:\n",
    "    info = line.split('|')\n",
    "    info.sort()\n",
    "    for couple in combinations(info,2):\n",
    "        data_couple[couple] += 1\n",
    "\n",
    "for value, num in data_couple.most_common():\n",
    "    if num>=temp_num:\n",
    "        print(value)\n",
    "        temp_num = num"
   ]
  },
  {
   "cell_type": "markdown",
   "metadata": {
    "colab_type": "text",
    "id": "U0nONFnGVqAX"
   },
   "source": [
    "# Submission"
   ]
  },
  {
   "cell_type": "code",
   "execution_count": 36,
   "metadata": {
    "colab": {},
    "colab_type": "code",
    "id": "IfcaRO9-VqAX",
    "outputId": "0f132912-32bb-4196-c98c-abfbc4ad5a5f"
   },
   "outputs": [
    {
     "data": {
      "text/plain": [
       "{'1': '1. Pirates of the Caribbean: On Stranger Tides (tt1298650)',\n",
       " '2': '2. Gods and Generals (tt0279111)',\n",
       " '3': '3. Winnie the Pooh (tt1449283)',\n",
       " '4': '4. 109.6586',\n",
       " '5': '5. 107',\n",
       " '6': '6. Avatar (tt0499549)',\n",
       " '7': '7. The Lone Ranger (tt1210819)',\n",
       " '8': '8. 1478',\n",
       " '9': '9. The Dark Knight (tt0468569)',\n",
       " '10': '10. The Lone Ranger (tt1210819)',\n",
       " '11': '11. Drama',\n",
       " '12': '12.  Drama',\n",
       " '13': '13. Peter Jackson',\n",
       " '14': '14. Robert Rodriguez',\n",
       " '15': '15. Chris Hemsworth',\n",
       " '16': '16. Matt Damon',\n",
       " '17': '17. Action',\n",
       " '18': '18. K-19: The Widowmaker (tt0267626)',\n",
       " '19': '19. 2015',\n",
       " '20': '20. 2014',\n",
       " '21': '21. сентябрь',\n",
       " '22': '22. 450',\n",
       " '23': '23. Peter Jackson',\n",
       " '24': '24. Four By Two Productions',\n",
       " '25': '25. Midnight Picture Show',\n",
       " '26': '26. The Dark Knight,Inside Out,Room,Interstellar,The Imitation Game,Guardians of the Galaxy,Gone Girl,The Grand Budapest Hotel,Inception,The Pianist,The Lord of the Rings: The Return of the King,The Wolf of Wall Street,12 Years a Slave,Memento',\n",
       " '27': '27. Daniel Radcliffe & Rupert Grint, Daniel Radcliffe & Emma Watson, Emma Watson & Rupert Grint'}"
      ]
     },
     "execution_count": 36,
     "metadata": {},
     "output_type": "execute_result"
    }
   ],
   "source": [
    "# в конце можно посмотреть свои ответы к каждому вопросу\n",
    "answers"
   ]
  },
  {
   "cell_type": "code",
   "execution_count": 37,
   "metadata": {
    "colab": {},
    "colab_type": "code",
    "id": "SiRmHPl8VqAd"
   },
   "outputs": [
    {
     "data": {
      "text/plain": [
       "27"
      ]
     },
     "execution_count": 37,
     "metadata": {},
     "output_type": "execute_result"
    }
   ],
   "source": [
    "# и убедиться что ни чего не пропустил)\n",
    "len(answers)"
   ]
  },
  {
   "cell_type": "code",
   "execution_count": null,
   "metadata": {
    "colab": {},
    "colab_type": "code",
    "id": "uCfuTkRbVqAg"
   },
   "outputs": [],
   "source": []
  },
  {
   "cell_type": "code",
   "execution_count": null,
   "metadata": {
    "colab": {},
    "colab_type": "code",
    "id": "Vwx3NrkSVqAl"
   },
   "outputs": [],
   "source": []
  }
 ],
 "metadata": {
  "colab": {
   "name": "Copy of [SF-DST] Movies IMBD v4.1 TEMPLATE.ipynb",
   "provenance": []
  },
  "kernelspec": {
   "display_name": "Python 3",
   "language": "python",
   "name": "python3"
  },
  "language_info": {
   "codemirror_mode": {
    "name": "ipython",
    "version": 3
   },
   "file_extension": ".py",
   "mimetype": "text/x-python",
   "name": "python",
   "nbconvert_exporter": "python",
   "pygments_lexer": "ipython3",
   "version": "3.8.5"
  }
 },
 "nbformat": 4,
 "nbformat_minor": 1
}
